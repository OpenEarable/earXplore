{
 "cells": [
  {
   "cell_type": "code",
   "execution_count": 17,
   "id": "bf8f3dd3-f097-4675-b312-24cd90cec881",
   "metadata": {},
   "outputs": [],
   "source": [
    "import os\n",
    "import numpy as np\n",
    "import pandas as pd\n",
    "import re\n",
    "\n",
    "from google import genai\n",
    "from google.genai import types\n",
    "\n",
    "import time\n",
    "from sklearn.metrics.pairwise import cosine_similarity\n",
    "\n",
    "GEMINI_API_KEY = open(\"C:/Users/Jonas Hummel/Documents/Studium - PhD Informatik/Survey Paper Interaction/gemini-api-key.txt\", \"r\").read()\n",
    "client = genai.Client(api_key=GEMINI_API_KEY)"
   ]
  },
  {
   "cell_type": "code",
   "execution_count": 18,
   "id": "e2a62895-adc5-4ca8-99f1-db9c1244df8a",
   "metadata": {},
   "outputs": [],
   "source": [
    "def get_gemini_embeddings(abstract):\n",
    "\n",
    "    result = client.models.embed_content(\n",
    "            model=\"gemini-embedding-exp-03-07\",\n",
    "            contents=abstract,\n",
    "            config=types.EmbedContentConfig(task_type=\"CLUSTERING\") # see here: https://ai.google.dev/gemini-api/docs/embeddings?hl=de\n",
    "\n",
    "    )\n",
    "\n",
    "    return result.embeddings[0].values"
   ]
  },
  {
   "cell_type": "code",
   "execution_count": 19,
   "id": "9dd3fee2-2f96-41d2-b166-a4b0bb0f5c1e",
   "metadata": {},
   "outputs": [],
   "source": [
    "abstract = \"Earables have emerged as a unique platform for ubiquitous computing by augmenting ear-worn devices with state-of-the-art sensing. This new platform has spurred a wealth of new research exploring what can be detected on a wearable, small form factor. As a sensing platform, the ears are less susceptible to motion artifacts and are located in close proximity to a number of important anatomical structures including the brain, blood vessels, and facial muscles which reveal a wealth of information. They can be easily reached by the hands and the ear canal itself is affected by mouth, face, and head movements. We have conducted a systematic literature review of 271 earable publications from the ACM and IEEE libraries. These were synthesized into an open-ended taxonomy of 47 different phenomena that can be sensed in, on, or around the ear. Through analysis, we identify 13 fundamental phenomena from which all other phenomena can be derived, and discuss the different sensors and sensing principles used to detect them. We comprehensively review the phenomena in four main areas of (i) physiological monitoring and health, (ii) movement and activity, (iii) interaction, and (iv) authentication and identification. This breadth highlights the potential that earables have to offer as a ubiquitous, general-purpose platform.\""
   ]
  },
  {
   "cell_type": "code",
   "execution_count": 20,
   "id": "7ae6fb8d-84d1-4630-b2b1-29c71892f928",
   "metadata": {},
   "outputs": [],
   "source": [
    "embedding = get_gemini_embeddings(abstract)"
   ]
  }
 ],
 "metadata": {
  "kernelspec": {
   "display_name": "Python 3 (ipykernel)",
   "language": "python",
   "name": "python3"
  },
  "language_info": {
   "codemirror_mode": {
    "name": "ipython",
    "version": 3
   },
   "file_extension": ".py",
   "mimetype": "text/x-python",
   "name": "python",
   "nbconvert_exporter": "python",
   "pygments_lexer": "ipython3",
   "version": "3.13.5"
  }
 },
 "nbformat": 4,
 "nbformat_minor": 5
}

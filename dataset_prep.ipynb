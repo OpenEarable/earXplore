{
 "cells": [
  {
   "cell_type": "markdown",
   "metadata": {},
   "source": [
    "Preparing the datasets from the Google Sheets to fit the format of the website"
   ]
  },
  {
   "cell_type": "code",
   "execution_count": null,
   "metadata": {},
   "outputs": [],
   "source": [
    "import numpy as np\n",
    "import pandas as pd"
   ]
  },
  {
   "cell_type": "code",
   "execution_count": 1,
   "metadata": {},
   "outputs": [
    {
     "ename": "NameError",
     "evalue": "name 'pd' is not defined",
     "output_type": "error",
     "traceback": [
      "\u001b[1;31m---------------------------------------------------------------------------\u001b[0m",
      "\u001b[1;31mNameError\u001b[0m                                 Traceback (most recent call last)",
      "Cell \u001b[1;32mIn[1], line 2\u001b[0m\n\u001b[0;32m      1\u001b[0m \u001b[38;5;66;03m# Ignore surplus columns and rows before the table, keep N/A symbols as they are\u001b[39;00m\n\u001b[1;32m----> 2\u001b[0m df \u001b[38;5;241m=\u001b[39m pd\u001b[38;5;241m.\u001b[39mread_csv(\u001b[38;5;124m\"\u001b[39m\u001b[38;5;124mDimensions_250324.csv\u001b[39m\u001b[38;5;124m\"\u001b[39m, skiprows\u001b[38;5;241m=\u001b[39m\u001b[38;5;241m2\u001b[39m, keep_default_na\u001b[38;5;241m=\u001b[39m\u001b[38;5;28;01mFalse\u001b[39;00m)\u001b[38;5;241m.\u001b[39miloc[:, \u001b[38;5;241m1\u001b[39m:\u001b[38;5;241m-\u001b[39m\u001b[38;5;241m17\u001b[39m]\n\u001b[0;32m      4\u001b[0m \u001b[38;5;66;03m# Kick out some of the columns as well as Out And Elicitation rows\u001b[39;00m\n\u001b[0;32m      5\u001b[0m df \u001b[38;5;241m=\u001b[39m df[\u001b[38;5;241m~\u001b[39mdf[\u001b[38;5;124m\"\u001b[39m\u001b[38;5;124mFilter\u001b[39m\u001b[38;5;124m\"\u001b[39m]\u001b[38;5;241m.\u001b[39misin([\u001b[38;5;124m\"\u001b[39m\u001b[38;5;124mElicitation\u001b[39m\u001b[38;5;124m\"\u001b[39m, \u001b[38;5;124m\"\u001b[39m\u001b[38;5;124mOut\u001b[39m\u001b[38;5;124m\"\u001b[39m])]\n",
      "\u001b[1;31mNameError\u001b[0m: name 'pd' is not defined"
     ]
    }
   ],
   "source": [
    "# Ignore surplus columns and rows before the table, keep N/A symbols as they are\n",
    "df = pd.read_csv(\"Dimensions_250324.csv\", skiprows=2, keep_default_na=False).iloc[:, 1:-17]\n",
    "\n",
    "# Kick out some of the columns as well as Out And Elicitation rows\n",
    "df = df[~df[\"Filter\"].isin([\"Elicitation\", \"Out\"])]\n",
    "df.drop(columns=[\"Filter\", \"Motivations (Notes)\", \"Motivations\", \"Citation\"], inplace=True)\n",
    "df.replace(\"\", np.NaN, inplace=True)\n",
    "\n",
    "# Drop unfinished rows\n",
    "df.dropna(inplace=True)\n",
    "\n",
    "# Move the \"ID\" column to the first position\n",
    "df.rename(columns={\"DB ID\": \"ID\"}, inplace=True)\n",
    "df = df[[\"ID\"] + [col for col in df.columns if col != \"ID\"]]\n",
    "\n",
    "# Custom title function with exceptions\n",
    "def custom_title(text, exceptions, stop_words):\n",
    "    words = text.split()\n",
    "    titled_words = [word if word in exceptions else (word if word in stop_words else word.title()) for word in words]\n",
    "    return ' '.join(titled_words)\n",
    "\n",
    "# List of exceptions\n",
    "exceptions = [\"AR\", \"VR\", \"AR/VR\", \"MP3\"]\n",
    "\n",
    "# List of stop words\n",
    "stop_words = [\"and\", \"the\", \"of\", \"in\", \"on\", \"at\", \"with\", \"a\", \"an\"]\n",
    "\n",
    "# Apply sorting and custom title casing\n",
    "for col in ['Location', 'Input Body Part', 'Gesture', 'Sensors', 'Resolution', 'Evaluation of Different Conditions', 'Evaluations of Different Settings', 'Earphone Type', 'Intended Applications', 'Keywords']:\n",
    "    df[col] = df[col].apply(lambda x: ', '.join(sorted(custom_title(word, exceptions, stop_words) for word in x.split(\", \"))))\n",
    "    \n",
    "# Display the dataframe\n",
    "df\n"
   ]
  },
  {
   "cell_type": "code",
   "execution_count": null,
   "metadata": {},
   "outputs": [],
   "source": [
    "# Define a dictionary with the current column names as keys and the new column names as values\n",
    "new_column_names = {\n",
    "    \"ID\": \"ID\",\n",
    "    \"Main Author\": \"Main Author\",\n",
    "    \"Year\": \"Year\",\n",
    "    \"Location\": \" Location\",\n",
    "    \"Input Body Part\": \"Input Body Part\",\n",
    "    \"Gesture\": \"Gesture\",\n",
    "    \"Sensors\": \"Sensing_PANEL_Sensors\",\n",
    "    \"No Additional Sensing\": \"Sensing_PANEL_No_Additional Sensing\",\n",
    "    \"Number of Selected Gestures\": \"Interaction_PANEL_Number of Selected Gestures\",\n",
    "    \"Resolution\": \"Interaction_PANEL_Resolution\",\n",
    "    \"Hands- Free\": \"Interaction_PANEL_Hands-Free\",\n",
    "    \"Eyes- Free\": \"Interaction_PANEL_Eyes-Free\",\n",
    "    \"Possible on One Ear\": \"Interaction_PANEL_Possible on One Ear\",\n",
    "    \"Adaptation of the Interaction Detection Algorithm to the Individual User\": \"Interaction_PANEL_Adaptation of the Interaction Detection Algorithm to the Individual User\",\n",
    "    \"Discreetness of Interaction Techniques\": \"Interaction_PANEL_Discreetness of Interaction Techniques\",\n",
    "    \"Social Acceptability of Interaction Techniques\": \"Interaction_PANEL_Social Acceptability of Interaction Techniques\",\n",
    "    \"Accuracy of Interaction Recognition\": \"Interaction_PANEL_Accuracy of Interaction Recognition\",\n",
    "    \"Robustness of Interaction Detection\": \"Interaction_PANEL_Robustness of Interaction Detection\",\n",
    "    \"Elicitation Study\": \"Study_PANEL_Elicitation Study\",\n",
    "    \"Usability Evaluations\": \"Study_PANEL_Usability Evaluations\",\n",
    "    \"Cognitive Ease Evaluations\": \"Study_PANEL_Cognitive Ease Evaluations\",\n",
    "    \"Discreetness of Interactions Evaluations\": \"Study_PANEL_Discreetness of Interactions Evaluations\",\n",
    "    \"Social Acceptability of Interactions Evaluations\": \"Study_PANEL_Social Acceptability of Interactions Evaluations\",\n",
    "    \"Accuracy of Interactions Evaluation\": \"Study_PANEL_Accuracy of Interactions Evaluations\",\n",
    "    \"Alternative Interaction Validity Evaluations\": \"Study_PANEL_Alternative Interaction Validity Evaluations\",\n",
    "    \"Evaluation of Different Conditions\": \"Study_PANEL_Evaluation of Different Conditions\",\n",
    "    \"Evaluations of Different Settings\": \"Study_PANEL_Evaluation of Different Settings\",\n",
    "    \"Earphone Type\": \"Device_PANEL_Earphone Type\",\n",
    "    \"Development Stage\": \"Device_PANEL_Development Stage\",\n",
    "    \"Real-Time Processing\": \"Device_PANEL_Real-Time Processing\",\n",
    "    \"On Device Processing\": \"Device_PANEL_On-Device Processing\",\n",
    "    \"Intended Applications\": \"Applications_PANEL_Intended Applications\",\n",
    "    \"Keywords\": \"Keywords_PANEL_Keywords\",\n",
    "    \"Abstract\": \"Abstract\",\n",
    "    \"Study Link\": \"Study Link\"\n",
    "}\n",
    "\n",
    "# Rename the columns\n",
    "df.rename(columns=new_column_names, inplace=True)"
   ]
  },
  {
   "cell_type": "code",
   "execution_count": null,
   "metadata": {},
   "outputs": [],
   "source": [
    "df.to_csv(\"data.csv\", index=False, header=True)"
   ]
  },
  {
   "cell_type": "code",
   "execution_count": null,
   "metadata": {},
   "outputs": [],
   "source": []
  }
 ],
 "metadata": {
  "kernelspec": {
   "display_name": "base",
   "language": "python",
   "name": "python3"
  },
  "language_info": {
   "codemirror_mode": {
    "name": "ipython",
    "version": 3
   },
   "file_extension": ".py",
   "mimetype": "text/x-python",
   "name": "python",
   "nbconvert_exporter": "python",
   "pygments_lexer": "ipython3",
   "version": "3.12.4"
  }
 },
 "nbformat": 4,
 "nbformat_minor": 2
}

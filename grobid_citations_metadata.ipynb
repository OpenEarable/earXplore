{
 "cells": [
  {
   "cell_type": "code",
   "execution_count": 12,
   "metadata": {},
   "outputs": [],
   "source": [
    "import pandas as pd\n",
    "import numpy as np\n",
    "\n",
    "import requests\n",
    "import re\n",
    "from bs4 import BeautifulSoup\n",
    "import difflib\n",
    "from tqdm import tqdm\n",
    "import os\n",
    "import time"
   ]
  },
  {
   "cell_type": "markdown",
   "metadata": {},
   "source": [
    "Preparation: Get paths to the pdfs"
   ]
  },
  {
   "cell_type": "code",
   "execution_count": 13,
   "metadata": {},
   "outputs": [],
   "source": [
    "path_constant_part = \"C:/Users/Jonas Hummel/Documents/Studium - PhD Informatik/Survey Paper Interaction/Study PDFs/\"\n",
    "\n",
    "pdf_path_dict = {\n",
    "    1: '33_weisenberger.pdf',\n",
    "    2: '714_brewster.pdf',\n",
    "    3: '32_metzger.pdf',\n",
    "    4: '40_buil.pdf', \n",
    "    5: '84_buil.pdf', \n",
    "    6: '61_manabe.pdf',\n",
    "    7: '623_simpson.pdf',\n",
    "    8: '184_tamaki.pdf',\n",
    "    9: '624_simpson.pdf',\n",
    "    10: '253_gamper.pdf',\n",
    "    11: '23_manabe.pdf',\n",
    "    12: '85_matsumura.pdf',\n",
    "    13: '62_sano.pdf',\n",
    "    14: '94_tessendorf.pdf',\n",
    "    15: '25_akiyama.pdf',\n",
    "    16: '20_manabe.pdf',\n",
    "    17: '1_lissermann.pdf',\n",
    "    18: '93_sahni.pdf',\n",
    "    19: '7_bedri.pdf',\n",
    "    20: '190_bleichner.pdf',\n",
    "    21: '92_norton.pdf',\n",
    "    22: '188_wang.pdf',\n",
    "    23: '19_weigel.pdf',\n",
    "    24: '63_ashbrook.pdf',\n",
    "    25: '34_laput.pdf',\n",
    "    26: '69_merrill.pdf',\n",
    "    27: '43_nguyen.pdf',\n",
    "    28: '17_ando.pdf',\n",
    "    29: '206_dim.pdf',\n",
    "    30: '22_kikuchi.pdf',\n",
    "    31: '64_maag.pdf',\n",
    "    32: '12_matthies.pdf',\n",
    "    33: '111_wang.pdf',\n",
    "    34: '117_ahn.pdf',\n",
    "    35: '177_carioli.pdf',\n",
    "    36: '91_favre_felix.pdf',\n",
    "    37: '31_huang.pdf',\n",
    "    38: '18_lee.pdf',\n",
    "    39: '610_min.pdf',\n",
    "    40: '65_nguyen.pdf',\n",
    "    41: '60_taniguchi.pdf',\n",
    "    42: '8_amesaka.pdf',\n",
    "    43: '80_ferlini.pdf',\n",
    "    44: '77_hoelzemann.pdf',\n",
    "    45: '106_lee.pdf',\n",
    "    46: '14_lee.pdf',\n",
    "    47: '2_nasser.pdf',\n",
    "    48: '78_odoemelem.pdf',\n",
    "    49: '15_shirota.pdf',\n",
    "    50: '620_vega_galvez.pdf',\n",
    "    51: '27_yan.pdf',\n",
    "    52: '223_cao.pdf',\n",
    "    53: '234_chen.pdf',\n",
    "    54: '212_chen.pdf',\n",
    "    55: '149_kaveh.pdf',\n",
    "    56: '16_prakash.pdf',\n",
    "    57: '26_xu.pdf',\n",
    "    58: '611_yang.pdf',\n",
    "    59: '229_fan.pdf',\n",
    "    60: '247_ferlini.pdf',\n",
    "    61: '258_gashi.pdf',\n",
    "    62: '217_hashem.pdf',\n",
    "    63: '622_islam.pdf',\n",
    "    64: '226_jin.pdf',\n",
    "    65: '618_kakaraparthi.pdf',\n",
    "    66: '213_khanna.pdf',\n",
    "    67: '224_laporte.pdf',\n",
    "    68: '626_ma.pdf',\n",
    "    69: '259_nasser.pdf',\n",
    "    70: '628_peng.pdf',\n",
    "    71: '227_röddiger.pdf',\n",
    "    72: '221_sun.pdf',\n",
    "    73: '231_verma.pdf',\n",
    "    74: '616_wu.pdf',\n",
    "    75: '608_alkiek.pdf',\n",
    "    76: '614_bi.pdf',\n",
    "    77: '452_bi.pdf',\n",
    "    78: '345_choi.pdf',\n",
    "    79: '627_futami.pdf',\n",
    "    80: '315_jin.pdf',\n",
    "    81: '278_li.pdf',\n",
    "    82: '512_song.pdf',\n",
    "    83: '296_rateau.pdf',\n",
    "    84: '307_srivastava.pdf',\n",
    "    85: '309_wang.pdf',\n",
    "    86: '306_wang.pdf',\n",
    "    87: '388_yang.pdf',\n",
    "    88: '284_alkiek.pdf',\n",
    "    89: '344_chugh.pdf',\n",
    "    90: '342_jin.pdf',\n",
    "    91: '376_li.pdf',\n",
    "    92: '308_panda.pdf',\n",
    "    93: '443_paul.pdf',\n",
    "    94: '277_stanke.pdf',\n",
    "    95: '461_yi.pdf',\n",
    "    96: '619_zhang.pdf',\n",
    "    97: '292_zhang.pdf',\n",
    "    98: '713_zhang.pdf',\n",
    "    99: '516_zhu.pdf',\n",
    "    100: '346_dong.pdf',\n",
    "    101: '498_ge.pdf',\n",
    "    102: '482_hu.pdf',\n",
    "    103: '509_hu.pdf',\n",
    "    104: '625_lepold.pdf',\n",
    "    105: '449_ronco.pdf',\n",
    "    106: '635_sato.pdf',\n",
    "    107: '291_shojaeifard.pdf',\n",
    "    108: '640_srivastava.pdf',\n",
    "    109: '275_shimon.pdf',\n",
    "    110: '654_srivastava.pdf',\n",
    "    111: '506_sun.pdf',\n",
    "    112: '639_suzuki.pdf',\n",
    "    113: '286_wang.pdf',\n",
    "    114: '532_wang.pdf',\n",
    "    115: '676_wang.pdf',\n",
    "    116: '675_xie.pdf',\n",
    "    117: '354_yang.pdf',\n",
    "    118: '527_yi.pdf',\n",
    "}\n",
    "\n",
    "pdf_path_dict_keys = list(pdf_path_dict.keys())"
   ]
  },
  {
   "cell_type": "code",
   "execution_count": 3,
   "metadata": {},
   "outputs": [
    {
     "name": "stdout",
     "output_type": "stream",
     "text": [
      "Checking PDF file paths...\n"
     ]
    },
    {
     "name": "stderr",
     "output_type": "stream",
     "text": [
      "100%|██████████| 118/118 [00:00<00:00, 1790.62it/s]"
     ]
    },
    {
     "name": "stdout",
     "output_type": "stream",
     "text": [
      "\n",
      "Results:\n",
      "- Valid paths: 118/118\n",
      "- Invalid paths: 0/118\n"
     ]
    },
    {
     "name": "stderr",
     "output_type": "stream",
     "text": [
      "\n"
     ]
    }
   ],
   "source": [
    "# Dictionary to track valid and invalid paths\n",
    "path_status = {\n",
    "    'valid': [],\n",
    "    'invalid': []\n",
    "}\n",
    "\n",
    "# Loop through all entries in pdf_path_dict to check if files exist\n",
    "print(\"Checking PDF file paths...\")\n",
    "for id_num, pdf_name in tqdm(pdf_path_dict.items()):\n",
    "    full_path = os.path.join(path_constant_part, pdf_name)\n",
    "    \n",
    "    if os.path.isfile(full_path):\n",
    "        path_status['valid'].append((id_num, pdf_name))\n",
    "    else:\n",
    "        path_status['invalid'].append((id_num, pdf_name))\n",
    "\n",
    "# Print results\n",
    "print(f\"\\nResults:\")\n",
    "print(f\"- Valid paths: {len(path_status['valid'])}/{len(pdf_path_dict)}\")\n",
    "print(f\"- Invalid paths: {len(path_status['invalid'])}/{len(pdf_path_dict)}\")\n",
    "\n",
    "# Print details of invalid paths if any exist\n",
    "if path_status['invalid']:\n",
    "    print(\"\\nInvalid paths:\")\n",
    "    for id_num, pdf_name in path_status['invalid']:\n",
    "        print(f\"ID {id_num}: {path_constant_part}{pdf_name}\")"
   ]
  },
  {
   "cell_type": "markdown",
   "metadata": {},
   "source": [
    "Extract the Authors from the PDFs and find matching authors"
   ]
  },
  {
   "cell_type": "code",
   "execution_count": 14,
   "metadata": {},
   "outputs": [
    {
     "name": "stderr",
     "output_type": "stream",
     "text": [
      "100%|██████████| 119/119 [02:49<00:00,  1.42s/it]\n"
     ]
    }
   ],
   "source": [
    "# Set display options to show all content\n",
    "pd.set_option('display.max_colwidth', None)  # Show full column content\n",
    "pd.set_option('display.width', 1000)  # Wide display\n",
    "\n",
    "df_id_authors = pd.DataFrame(columns=['ID', 'Authors'])\n",
    "\n",
    "for i in tqdm(range(119)): \n",
    "    if i in pdf_path_dict_keys:\n",
    "        \n",
    "        pdf_path = f'{path_constant_part}{pdf_path_dict[i]}'\n",
    "        \n",
    "        # Read the file content within the with block\n",
    "        with open(pdf_path, \"rb\") as pdf_file:\n",
    "            pdf_content = pdf_file.read()\n",
    "        \n",
    "        # Use the content in the request\n",
    "        files = {\"input\": (\"filename.pdf\", pdf_content, \"application/pdf\")}\n",
    "            \n",
    "        response_header = requests.post(\"http://localhost:8070/api/processHeaderDocument\", files=files)\n",
    "        response_string = response_header.text  # TEI XML output\n",
    "        \n",
    "        author_extract = re.search(r'author\\s*=\\s*\\{(.*?)\\}', response_string)\n",
    "        if author_extract:\n",
    "            author_string = author_extract.group(1)\n",
    "            # Split by 'and' to get individual authors\n",
    "            authors_raw = [author.strip() for author in author_string.split(' and ')]\n",
    "            \n",
    "            # Reverse \"Last, First\" to \"First Last\" format\n",
    "            authors = []\n",
    "            for author in authors_raw:\n",
    "                if ',' in author:\n",
    "                    last_name, first_name = author.split(',', 1)\n",
    "                    full_name = f\"{first_name.strip()} {last_name.strip()}\"\n",
    "                    authors.append(full_name)\n",
    "                else:\n",
    "                    # If there's no comma, keep the name as is\n",
    "                    authors.append(author)\n",
    "                    \n",
    "        df_id_authors.loc[len(df_id_authors)] = [i, authors]\n",
    "            "
   ]
  },
  {
   "cell_type": "code",
   "execution_count": 15,
   "metadata": {},
   "outputs": [
    {
     "data": {
      "text/html": [
       "<div>\n",
       "<style scoped>\n",
       "    .dataframe tbody tr th:only-of-type {\n",
       "        vertical-align: middle;\n",
       "    }\n",
       "\n",
       "    .dataframe tbody tr th {\n",
       "        vertical-align: top;\n",
       "    }\n",
       "\n",
       "    .dataframe thead th {\n",
       "        text-align: right;\n",
       "    }\n",
       "</style>\n",
       "<table border=\"1\" class=\"dataframe\">\n",
       "  <thead>\n",
       "    <tr style=\"text-align: right;\">\n",
       "      <th></th>\n",
       "      <th>ID</th>\n",
       "      <th>Authors</th>\n",
       "    </tr>\n",
       "  </thead>\n",
       "  <tbody>\n",
       "    <tr>\n",
       "      <th>0</th>\n",
       "      <td>1</td>\n",
       "      <td>[Janet Weisenbercer, Arnold Heidbreder, James Miller]</td>\n",
       "    </tr>\n",
       "    <tr>\n",
       "      <th>1</th>\n",
       "      <td>2</td>\n",
       "      <td>[Stephen Brewster, Joanna Lumsden, Marek Bell, Malcolm Hall, Stuart Tasker]</td>\n",
       "    </tr>\n",
       "    <tr>\n",
       "      <th>2</th>\n",
       "      <td>3</td>\n",
       "      <td>[Christian Metzger, Matt Anderson, Thad Starner]</td>\n",
       "    </tr>\n",
       "    <tr>\n",
       "      <th>3</th>\n",
       "      <td>4</td>\n",
       "      <td>[Vincent Buil, Gerard Hollemans]</td>\n",
       "    </tr>\n",
       "    <tr>\n",
       "      <th>4</th>\n",
       "      <td>5</td>\n",
       "      <td>[Vincent Buil, Gerard Hollemans, Sander Van De Wijdeven]</td>\n",
       "    </tr>\n",
       "    <tr>\n",
       "      <th>...</th>\n",
       "      <td>...</td>\n",
       "      <td>...</td>\n",
       "    </tr>\n",
       "    <tr>\n",
       "      <th>113</th>\n",
       "      <td>114</td>\n",
       "      <td>[Yong Wang, Tianyu Yang, Chunxiao Wang, Pengfei Hu, Yiran Shen, Feng Li]</td>\n",
       "    </tr>\n",
       "    <tr>\n",
       "      <th>114</th>\n",
       "      <td>115</td>\n",
       "      <td>[Yilin Wang, Zi Wang, Jie Yang]</td>\n",
       "    </tr>\n",
       "    <tr>\n",
       "      <th>115</th>\n",
       "      <td>116</td>\n",
       "      <td>[Yanze Xie, Mengzhen Gao, Xiaoning Liu, Shuo Huang, Helei Cui, Zhiwen Yu, Bin Guo]</td>\n",
       "    </tr>\n",
       "    <tr>\n",
       "      <th>116</th>\n",
       "      <td>117</td>\n",
       "      <td>[Yongjie Yang, Tao Chen, Yujing Huang, Xiuzhen Guo, Longfei Shangguan, Longfei Shang]</td>\n",
       "    </tr>\n",
       "    <tr>\n",
       "      <th>117</th>\n",
       "      <td>118</td>\n",
       "      <td>[Chunzhi Yi, Baichun Wei, Yifan Huang, Jianfei Zhu, Yuefan Wang, Changbing Chen, Zhiyuan Chen, Feng Jiang]</td>\n",
       "    </tr>\n",
       "  </tbody>\n",
       "</table>\n",
       "<p>118 rows × 2 columns</p>\n",
       "</div>"
      ],
      "text/plain": [
       "      ID                                                                                                     Authors\n",
       "0      1                                                       [Janet Weisenbercer, Arnold Heidbreder, James Miller]\n",
       "1      2                                 [Stephen Brewster, Joanna Lumsden, Marek Bell, Malcolm Hall, Stuart Tasker]\n",
       "2      3                                                            [Christian Metzger, Matt Anderson, Thad Starner]\n",
       "3      4                                                                            [Vincent Buil, Gerard Hollemans]\n",
       "4      5                                                    [Vincent Buil, Gerard Hollemans, Sander Van De Wijdeven]\n",
       "..   ...                                                                                                         ...\n",
       "113  114                                    [Yong Wang, Tianyu Yang, Chunxiao Wang, Pengfei Hu, Yiran Shen, Feng Li]\n",
       "114  115                                                                             [Yilin Wang, Zi Wang, Jie Yang]\n",
       "115  116                          [Yanze Xie, Mengzhen Gao, Xiaoning Liu, Shuo Huang, Helei Cui, Zhiwen Yu, Bin Guo]\n",
       "116  117                       [Yongjie Yang, Tao Chen, Yujing Huang, Xiuzhen Guo, Longfei Shangguan, Longfei Shang]\n",
       "117  118  [Chunzhi Yi, Baichun Wei, Yifan Huang, Jianfei Zhu, Yuefan Wang, Changbing Chen, Zhiyuan Chen, Feng Jiang]\n",
       "\n",
       "[118 rows x 2 columns]"
      ]
     },
     "execution_count": 15,
     "metadata": {},
     "output_type": "execute_result"
    }
   ],
   "source": [
    "df_id_authors\n"
   ]
  },
  {
   "cell_type": "code",
   "execution_count": 16,
   "metadata": {},
   "outputs": [
    {
     "data": {
      "text/plain": [
       "array([[1,\n",
       "        list(['Janet Weisenbercer', 'Arnold Heidbreder', 'James Miller'])],\n",
       "       [2,\n",
       "        list(['Stephen Brewster', 'Joanna Lumsden', 'Marek Bell', 'Malcolm Hall', 'Stuart Tasker'])],\n",
       "       [3, list(['Christian Metzger', 'Matt Anderson', 'Thad Starner'])],\n",
       "       [4, list(['Vincent Buil', 'Gerard Hollemans'])],\n",
       "       [5,\n",
       "        list(['Vincent Buil', 'Gerard Hollemans', 'Sander Van De Wijdeven'])],\n",
       "       [6, list(['Hiroyuki Manabe', 'Masaaki Fukumoto'])],\n",
       "       [7, list(['Tyler Simpson', 'Colin Broughton', 'Michel Gauthier'])],\n",
       "       [8, list(['Emi Tamaki', 'Takashi Miyaki', 'Jun Rekimoto'])],\n",
       "       [9,\n",
       "        list(['Tyler Simpson', 'Michel Gauthier', 'Arthur Prochazka'])],\n",
       "       [10, list(['Hannes Gamper', 'Sakari Tervo', 'Tapio Lokki'])],\n",
       "       [11, list(['Hiroyuki Manabe', 'Masaaki Fukumoto'])],\n",
       "       [12,\n",
       "        list(['Kohei Matsumura', 'Daisuke Sakamoto', 'Takeo Igarashi'])],\n",
       "       [13, list(['Akane Sano', 'Takashi Tomita', 'Haruo Oba'])],\n",
       "       [14,\n",
       "        list(['Bernd Tessendorf', 'Peter Derleth', 'Manuela Feilner', 'Franz Gravenhorst', 'Andreas Kettner', 'Daniel Roggen', 'Thomas Stiefmeier', 'Gerhard Tröster'])],\n",
       "       [15,\n",
       "        list(['Shimon Akiyama', 'Katsunari Sato', 'Yasutoshi Makino', 'Takashi Maeno'])],\n",
       "       [16, list(['Hiroyuki Manabe', 'Masaaki Fukumoto'])],\n",
       "       [17,\n",
       "        list(['Roman Lissermann', 'Jochen Huber', 'Aristotelis Hadjakos', 'Suranga Nanayakkara', 'Max Ühlhäuser'])],\n",
       "       [18,\n",
       "        list(['Himanshu Sahni', 'Gabriel Reyes', 'Zehua Guo', 'Thad Starner', 'Maysam Ghovanloo'])],\n",
       "       [19,\n",
       "        list(['Abdelkareem Bedri', 'David Byrd', 'Peter Presti', 'Himanshu Sahni', 'Zehua Gue', 'Thad Starner'])],\n",
       "       [20,\n",
       "        list(['Martin Bleichner', 'Micha Lundbeck', 'Matthias Selisky', 'Falk Minow', 'Manuela J€ Ager', 'Reiner Emkes', 'Stefan Debener', 'Maarten De Vos', 'Neuropsychology Lab'])],\n",
       "       [21,\n",
       "        list(['James Norton', 'Dong Lee', 'Jung Lee', 'Woosik Lee', 'Ohjin Kwon', 'Phillip Won', 'Sung-Young Jung', 'Huanyu Cheng', 'Jae-Woong Jeong', 'Abdullah Akce', 'Stephen Umunna', 'Ilyoun Na', 'Yong Ho Kwon', 'Xiao-Qi Wang', 'Zhuangjian Liu', 'Ungyu Paik', 'Yonggang Huang', 'Timothy Bretl', 'Woon-Hong Yeo', 'John Rogers'])],\n",
       "       [22,\n",
       "        list(['Yu-Te Wang', 'Masaki Nakanishi', 'Simon Kappel', 'D Mandic'])],\n",
       "       [23,\n",
       "        list(['Martin Weigel', 'Tong Lu', 'Gilles Bailly', 'Antti Oulasvirta', 'Carmel Majidi', 'J Ürgen Steimle'])],\n",
       "       [24,\n",
       "        list(['Daniel Ashbrook', 'Carlos Tejada', 'Dhwanit Mehta', 'Anthony Jiminez', 'Goudam Muralitharam', 'Sangeeta Gajendra', 'Ross Tallents'])],\n",
       "       [25, list([\"Gierad Xiang '\", 'Anthony Chen', 'Chris Harrison'])],\n",
       "       [26,\n",
       "        list(['Nick Merrill', 'Max Curran', 'Jong-Kai Yang', 'John Chuang'])],\n",
       "       [27,\n",
       "        list(['Anh Nguyen', 'Raghda Alqurashi', 'Zohreh Raghebi', 'Farnoush Banaei-Kashani † †', 'Ann Halbower', 'Tam Vu'])],\n",
       "       [28,\n",
       "        list(['Toshiyuki Ando', 'Yuki Kubo', 'Buntarou Shizuki', 'Shin Takahashi', 'Eartip Speaker'])],\n",
       "       [29, list(['Nem Khan Dim', 'Xiangshi Ren'])],\n",
       "       [30,\n",
       "        list(['Takashi Kikuchi', 'Yuta Sugiura', 'Katsutoshi Masai', 'Maki Sugimoto', 'Bruce Thomas'])],\n",
       "       [31,\n",
       "        list(['Balz Maag', 'Zimu Zhou', 'Olga Saukh', 'Lothar Thiele'])],\n",
       "       [32, list(['Denys Matthies', 'Bernhard Strecker', 'Bodo Urban'])],\n",
       "       [33,\n",
       "        list(['Ker-Jiun Wang', 'Kaiwen You', 'Fangyi Chen', 'Zihang Huang', 'Zhi-Hong Mao'])],\n",
       "       [34,\n",
       "        list(['J Ahn', 'Y Ku', 'D Kim', 'J Sohn', 'J.-H Kim', 'H Kim'])],\n",
       "       [35,\n",
       "        list(['Johan Carioli', 'Aidin Delnavaz', 'Ricardo Zednik', 'Jérémie Voix'])],\n",
       "       [36,\n",
       "        list(['Antoine Favre-Fe ´lix', 'Carina Graversen', 'Renskje Hietkamp', 'Dau Torsten', 'Thomas Lunner', 'Antoine Favre-Fe'])],\n",
       "       [37,\n",
       "        list(['Da-Yuan Huang', 'Teddy Seyed', 'Linjun Li', 'Jun Gong', 'Zhihao Yao', 'Yuchen Jiao', \"Xiang 'anthony' Chen\", 'Xing-Dong Yang', 'Dartmouth College'])],\n",
       "       [38,\n",
       "        list(['Doyoung Lee', 'Youryang Lee', 'Yonghwan Shin', 'Ian Oakley'])],\n",
       "       [39, list(['Chulhong Min', 'Akhil Mathur', 'Fahim Kawsar'])],\n",
       "       [40,\n",
       "        list(['Phuc Nguyen', 'Nam Bui', 'Anh Nguyen', 'Hoang Truong', 'Abhijit Suresh', 'Matt Whitlock', 'Duy Pham', 'Thang Dinh', 'Tam Vu'])],\n",
       "       [41,\n",
       "        list(['Kazuhiro Taniguchi', 'Hisashi Kondo', 'Mami Kurosawa', 'Atsushi Nishikawa'])],\n",
       "       [42,\n",
       "        list(['Takashi Amesaka', 'Hiroki Watanabe', 'Masanori Sugimoto'])],\n",
       "       [43,\n",
       "        list(['Andrea Ferlini', 'Alessandro Montanari', 'Cecilia Mascolo', 'Robert Harle'])],\n",
       "       [44,\n",
       "        list(['Alexander Hoelzemann', 'Henry Odoemelem', 'Kristof Van Laerhoven'])],\n",
       "       [45,\n",
       "        list(['Minkyeong Lee', 'Seungwoo Je', 'Woojin Lee', 'Daniel Ashbrook', 'Andrea Bianchi'])],\n",
       "       [46,\n",
       "        list(['Seungchul Lee', 'Chulhong Min', 'Alessandro Montanari', 'Akhil Mathur', 'Youngjae Chang', 'Junehwa Song', 'Fahim Kawsar'])],\n",
       "       [47, list(['Arshad Nasser', 'Kening Zhu', 'Sarah Wiseman'])],\n",
       "       [48,\n",
       "        list(['Henry Odoemelem', 'Alexander Hölzemann', 'Kristof Van Laerhoven'])],\n",
       "       [49,\n",
       "        list(['Kenichiro Shirota', 'Roshan Peiris', 'Kouta Minamizawa'])],\n",
       "       [50,\n",
       "        list(['Tomás Vega Gálvez', 'Shardul Sapkota', 'Alexandru Dancu', 'Pattie Maes'])],\n",
       "       [51,\n",
       "        list(['Yukang Yan', 'Chun Yu', 'Yingtian Shi', 'Minxing Xie'])],\n",
       "       [52,\n",
       "        list(['Gaoshuai Cao', 'Kuang Yuan', 'Jie Xiong', 'Panlong Yang', 'Yubo Yan', 'Hao Zhou', 'Xiang-Yang Li'])],\n",
       "       [53,\n",
       "        list(['Yu-Chun Chen', 'Chia-Ying Liao', 'Shuo-Wen Hsu', 'Da-Yuan Huang', 'Bing-Yu Chen', 'Exploring User'])],\n",
       "       [54,\n",
       "        list(['Tuochao Chen', 'Benjamin Steeper', 'Kinan Alsheikh', 'Songyun Tao', 'François Guimbretière', 'Cheng Zhang'])],\n",
       "       [55,\n",
       "        list(['Ryan Kaveh', 'Jus Doong', 'Andy Zhou', 'Carolyn Schwendeman', 'Karthik Gopalan', 'Fred Burghar', 'Ana Arias', 'Michel Maharbiz', 'Rikky Muller'])],\n",
       "       [56,\n",
       "        list(['Jay Prakash', 'Zhijian Yang', 'Yu-Lin Wei', 'Haitham Hassanieh', 'Romit Choudhury', 'Romit Roy'])],\n",
       "       [57,\n",
       "        list(['Xuhai Xu', 'Haitian Shi', 'Xin Yi', 'Wenjia Liu', 'Yukang Yan', 'Yuanchun Shi', 'Alex Mariakakis', 'Jennifer Mankoff', 'Anind Dey'])],\n",
       "       [58,\n",
       "        list(['Zhijian Yang', 'Yu-Lin Wei', 'Sheng Shen', 'Romit Choudhury', 'Romit Roy'])],\n",
       "       [59,\n",
       "        list(['Fan Xiaoran', 'Longfei Shangguan', 'Siddharth Rupavatharam', 'Yanyong Zhang', 'Jie Xiong', 'Yunfei Ma', 'Richard Howard', '† Headfi'])],\n",
       "       [60,\n",
       "        list(['Andrea Ferlini', 'Alessandro Montanari', 'Andreas Grammenos', 'Robert Harle', 'Cecilia Mascolo'])],\n",
       "       [61,\n",
       "        list(['Shkurta Gashi', 'Aaqib Saeed', 'Alessandra Vicini', 'Elena Lascio', 'Silvia Santini'])],\n",
       "       [62,\n",
       "        list(['Omar Hashem', 'Khaled Alkiek', 'Moustafa Youssef', 'Khaled Harras'])],\n",
       "       [63,\n",
       "        list(['Shafiqul Islam', 'Tahera Hossain', 'Atiqur Ahad', 'Sozo Inoue', 'M Ahad'])],\n",
       "       [64, list(['Yincheng Jin', 'Anind Dey', 'Jin Zhanpeng'])],\n",
       "       [65,\n",
       "        list(['Charles Carver', 'Dartmouth College', 'Tien Pham', 'Vimal Kakaraparthi', 'Qijia Shao', 'Nam Bui', 'Phuc Nguyen', 'Xia Zhou', 'Tam Vu'])],\n",
       "       [66,\n",
       "        list(['Prerna Khanna', 'Tanmay Srivastava', 'Shubham Jain', 'Phuc Nguyen'])],\n",
       "       [67,\n",
       "        list(['Matias Laporte', 'Martin Gjoreski', 'Marc Langheinrich'])],\n",
       "       [68, list(['Dong Ma', 'Andrea Ferlini', 'Cecilia Mascolo'])],\n",
       "       [69, list(['Arshad Nasser', 'Kening Zhu'])],\n",
       "       [70, list(['Victoria Peng'])],\n",
       "       [71,\n",
       "        list(['Tobias Röddiger', 'Christopher Clarke', 'Daniel Wolfram'])],\n",
       "       [72,\n",
       "        list(['Wei Sun', 'Franklin Li', 'Benjamin Steeper', 'Songlin Xu', 'Feng Tian', 'Cheng Zhang'])],\n",
       "       [73,\n",
       "        list(['Dhruv Verma', 'Sejal Bhalla', 'Dhruv Sahnan', 'Jainendra Shukla'])],\n",
       "       [74,\n",
       "        list(['Yi Wu', 'Vimal Kakaraparthi', 'Zhuohang Li', 'Tien Pham', 'Jian Liu', 'Phuc Nguyen'])],\n",
       "       [75, list(['Khaled Alkiek', 'Khaled Harras', 'Moustafa Youssef'])],\n",
       "       [76, list(['Hongliang Bi', 'Jiajia Liu'])],\n",
       "       [77,\n",
       "        list(['Hongliang Bi', 'Yuanyuan Sun', 'Jiajia Liu', 'Lihao Cao'])],\n",
       "       [78, list(['Seokmin Choi', 'Yang Gao'])],\n",
       "       [79,\n",
       "        list(['Hsiang-Chieh Chen', 'Yi-Zeng Hsieh', 'Chih-Hsien Hsia', 'Kyosuke Futami', 'Kohei Oyama', 'Kazuya Murao'])],\n",
       "       [80, list(['Yincheng Jin', 'Yang Gao'])],\n",
       "       [81, list(['Ke Li', 'Ruidong Zhang', 'Cheng Zhang'])],\n",
       "       [82, list(['Xingzhe Song', 'Kai Huang', 'Wei Gao'])],\n",
       "       [83, list(['Hanae Rateau', 'Edward Lank', 'Zhe Liu'])],\n",
       "       [84, list(['Tanmay Srivastava', 'Phuc Nguyen'])],\n",
       "       [85,\n",
       "        list(['Yuntao Wang', 'Shwetak Patel', 'Yuanchun Shi', 'Paul Allen'])],\n",
       "       [86, list(['Zi Wang', 'Yingying Chen', 'Jie Yang'])],\n",
       "       [87, list(['Yicheng Yang', 'Weibang Bai', 'Benny Lo'])],\n",
       "       [88, list(['Khaled Alkiek', 'Moustafa Youssef', 'Khaled Harras'])],\n",
       "       [89,\n",
       "        list(['Garvit Chugh', 'Suchetana Chakraborty', 'Ravi Bhandari', 'Sandip Chakraborty'])],\n",
       "       [90,\n",
       "        list(['Yincheng Jin', 'Yang Gao', 'Henry Adler', 'Zhanpeng Jin', 'Shibo Zhang', 'Xuhai Xu', 'Seokmin Choi', 'Zhengxiong Li'])],\n",
       "       [91,\n",
       "        list(['Zisu Li', 'Chen Liang', 'Yuntao Wang', 'Chun Yu', 'Yukang Yan', 'Yue Qin'])],\n",
       "       [92,\n",
       "        list(['Payod Panda', 'Molly Nicholas', 'David Nguyen', 'Eyal Ofek', 'Michel Pahud', 'Sean Rintel', 'Mar Gonzalez-Franco', 'Ken Hinckley', 'Jaron Lanier'])],\n",
       "       [93, list(['Akshay Paul', 'Shu Chien', 'Gene Lay'])],\n",
       "       [94, list(['Dennis Stanke', 'Tim Duente', 'Michael Rohs'])],\n",
       "       [95,\n",
       "        list(['Chunzhi Yi', 'Baichun W', 'Jianfei Zhu', 'Seungmin Rho', 'Zhiyuan Chen', 'Feng Jiang'])],\n",
       "       [96,\n",
       "        list(['Yuke Zhang', 'Ken Takaki', 'Hiroaki Murakami', 'Takuya Sasatani', 'Yoshi- Hiro Kawahara'])],\n",
       "       [97,\n",
       "        list(['Shijia Zhang', 'Taiting Lu', 'Hao Zhou', 'Yilin Liu', 'Runze Liu', 'Mahanth Gowda'])],\n",
       "       [98,\n",
       "        list(['Ruidong Zhang', 'Hao Chen', 'Richard Jin', 'Ke Li', 'Cheng Zhang', 'Devansh Agarwal', 'François Guimbretière', 'Hpspeech'])],\n",
       "       [99,\n",
       "        list(['Peizhao Zhu', 'Yongpan Zou', 'Wenyuan Li', 'Kaishun Wu'])],\n",
       "       [100,\n",
       "        list(['Xuefu Dong', 'Yifei Chen', 'Yuuki Nishiyama', 'Kaoru Sezaki', 'Yuntao Wang', 'Ken Christoferson', 'Alex Mariakakis'])],\n",
       "       [101,\n",
       "        list(['Qian Zhang', 'Jin Zhang', 'Linfei Ge', 'Huangxun Chen'])],\n",
       "       [102,\n",
       "        list(['Jingyang Hu', 'Hongbo Jiang', 'Daibo Liu', 'Zhu Xiao', 'Qibo Zhang', 'Jiangchuan Liu'])],\n",
       "       [103,\n",
       "        list(['Hongbo Jiang', 'Jingyang Hu', 'Zhu Xiao', 'Siyu Chen', 'Jiangchuan Liu'])],\n",
       "       [104,\n",
       "        list(['Philipp Lepold', 'Christoph Maurer', 'Tobias Röddiger', 'Tobias King', 'Kai Kunze', 'Michael Beigl', 'Openearable'])],\n",
       "       [105, list(['Andrea Ronco', 'Philipp Schilk', 'Michele Magno'])],\n",
       "       [106, list(['Yukina Sato', 'Takashi Amesaka', 'Hiroki Watanabe'])],\n",
       "       [107,\n",
       "        list(['Leyla Shojaeifard', 'Adnanul Islam', 'Hassan Shaheen', 'Vappu Schroderus', 'Ella Peltonen'])],\n",
       "       [108,\n",
       "        list(['Tanmay Srivastava', 'Prerna Khanna', 'Phuc Nguyen', 'Shubham Jain', 'Shijia Pan'])],\n",
       "       [109, list(['Shaikh Shawon', 'Arefin Shimon', 'Jian Zhao'])],\n",
       "       [110,\n",
       "        list(['Tanmay Srivastava', 'R Michael Winters', 'Thomas Gable', 'Yu-Te Wang', 'Teresa Lascala', 'Ivan Tashev', 'Academia Sinica', 'R Winters'])],\n",
       "       [111,\n",
       "        list(['Xue Sun', 'Jie Xiong', 'Chao Feng', 'Haoyu Li', 'Yuli Wu', 'Dingyi Fang', 'Xiaojiang Chen'])],\n",
       "       [112,\n",
       "        list(['Shunta Suzuki', 'Takashi Amesaka', 'Hiroki Watanabe'])],\n",
       "       [113, list(['Zi Wang', 'Yilin Wang'])],\n",
       "       [114,\n",
       "        list(['Yong Wang', 'Tianyu Yang', 'Chunxiao Wang', 'Pengfei Hu', 'Yiran Shen', 'Feng Li'])],\n",
       "       [115, list(['Yilin Wang', 'Zi Wang', 'Jie Yang'])],\n",
       "       [116,\n",
       "        list(['Yanze Xie', 'Mengzhen Gao', 'Xiaoning Liu', 'Shuo Huang', 'Helei Cui', 'Zhiwen Yu', 'Bin Guo'])],\n",
       "       [117,\n",
       "        list(['Yongjie Yang', 'Tao Chen', 'Yujing Huang', 'Xiuzhen Guo', 'Longfei Shangguan', 'Longfei Shang'])],\n",
       "       [118,\n",
       "        list(['Chunzhi Yi', 'Baichun Wei', 'Yifan Huang', 'Jianfei Zhu', 'Yuefan Wang', 'Changbing Chen', 'Zhiyuan Chen', 'Feng Jiang'])]],\n",
       "      dtype=object)"
      ]
     },
     "execution_count": 16,
     "metadata": {},
     "output_type": "execute_result"
    }
   ],
   "source": [
    "np.array((df_id_authors['ID'].to_numpy(), df_id_authors['Authors'].to_numpy())).T"
   ]
  },
  {
   "cell_type": "code",
   "execution_count": 17,
   "metadata": {},
   "outputs": [],
   "source": [
    "# Manual replacements\n",
    "df_id_authors.at[df_id_authors[df_id_authors['ID'] == 1].index[0], 'Authors'] = ['Janet Weisenberger', 'Arnold Heidbreder', 'James Miller']\n",
    "df_id_authors.at[df_id_authors[df_id_authors['ID'] == 20].index[0], 'Authors'] = ['Martin Bleichner', 'Micha Lundbeck', 'Matthias Selisky', 'Falk Minow', 'Manuela Jaeger', 'Reiner Emkes', 'Stefan Debener', 'Maarten De Vos', 'Neuropsychology Lab']\n",
    "df_id_authors.at[df_id_authors[df_id_authors['ID'] == 23].index[0], 'Authors'] = ['Martin Weigel', 'Tong Lu', 'Gilles Bailly', 'Antti Oulasvirta', 'Carmel Majidi', 'Juergen Steimle']\n",
    "df_id_authors.at[df_id_authors[df_id_authors['ID'] == 25].index[0], 'Authors'] = ['Gierad Xiang', 'Anthony Chen', 'Chris Harrison']\n",
    "df_id_authors.at[df_id_authors[df_id_authors['ID'] == 27].index[0], 'Authors'] = ['Anh Nguyen', 'Raghda Alqurashi', 'Zohreh Raghebi', 'Farnoush Banaei-Kashani', 'Ann Halbower', 'Tam Vu']\n",
    "df_id_authors.at[df_id_authors[df_id_authors['ID'] == 36].index[0], 'Authors'] = ['Antoine Favre-Felix', 'Carina Graversen', 'Renskje Hietkamp', 'Dau Torsten', 'Thomas Lunner']\n",
    "df_id_authors.at[df_id_authors[df_id_authors['ID'] == 96].index[0], 'Authors'] = ['Yuke Zhang', 'Ken Takaki', 'Hiroaki Murakami', 'Takuya Sasatani', 'Yoshihiro Kawahara']\n",
    "df_id_authors.at[df_id_authors[df_id_authors['ID'] == 113].index[0], 'Authors'] = ['Zi Wang', 'Yilin Wang', 'Jie Yang']\n"
   ]
  },
  {
   "cell_type": "code",
   "execution_count": 18,
   "metadata": {},
   "outputs": [
    {
     "data": {
      "text/html": [
       "<div>\n",
       "<style scoped>\n",
       "    .dataframe tbody tr th:only-of-type {\n",
       "        vertical-align: middle;\n",
       "    }\n",
       "\n",
       "    .dataframe tbody tr th {\n",
       "        vertical-align: top;\n",
       "    }\n",
       "\n",
       "    .dataframe thead th {\n",
       "        text-align: right;\n",
       "    }\n",
       "</style>\n",
       "<table border=\"1\" class=\"dataframe\">\n",
       "  <thead>\n",
       "    <tr style=\"text-align: right;\">\n",
       "      <th></th>\n",
       "      <th>Author</th>\n",
       "      <th>Count</th>\n",
       "    </tr>\n",
       "  </thead>\n",
       "  <tbody>\n",
       "    <tr>\n",
       "      <th>0</th>\n",
       "      <td>Phuc Nguyen</td>\n",
       "      <td>6</td>\n",
       "    </tr>\n",
       "    <tr>\n",
       "      <th>2</th>\n",
       "      <td>Cheng Zhang</td>\n",
       "      <td>4</td>\n",
       "    </tr>\n",
       "    <tr>\n",
       "      <th>1</th>\n",
       "      <td>Tanmay Srivastava</td>\n",
       "      <td>4</td>\n",
       "    </tr>\n",
       "    <tr>\n",
       "      <th>9</th>\n",
       "      <td>Alessandro Montanari</td>\n",
       "      <td>3</td>\n",
       "    </tr>\n",
       "    <tr>\n",
       "      <th>10</th>\n",
       "      <td>Andrea Ferlini</td>\n",
       "      <td>3</td>\n",
       "    </tr>\n",
       "    <tr>\n",
       "      <th>...</th>\n",
       "      <td>...</td>\n",
       "      <td>...</td>\n",
       "    </tr>\n",
       "    <tr>\n",
       "      <th>409</th>\n",
       "      <td>Zihang Huang</td>\n",
       "      <td>1</td>\n",
       "    </tr>\n",
       "    <tr>\n",
       "      <th>407</th>\n",
       "      <td>Zimu Zhou</td>\n",
       "      <td>1</td>\n",
       "    </tr>\n",
       "    <tr>\n",
       "      <th>212</th>\n",
       "      <td>Zisu Li</td>\n",
       "      <td>1</td>\n",
       "    </tr>\n",
       "    <tr>\n",
       "      <th>278</th>\n",
       "      <td>Zohreh Raghebi</td>\n",
       "      <td>1</td>\n",
       "    </tr>\n",
       "    <tr>\n",
       "      <th>105</th>\n",
       "      <td>† Headfi</td>\n",
       "      <td>1</td>\n",
       "    </tr>\n",
       "  </tbody>\n",
       "</table>\n",
       "<p>457 rows × 2 columns</p>\n",
       "</div>"
      ],
      "text/plain": [
       "                   Author  Count\n",
       "0             Phuc Nguyen      6\n",
       "2             Cheng Zhang      4\n",
       "1       Tanmay Srivastava      4\n",
       "9    Alessandro Montanari      3\n",
       "10         Andrea Ferlini      3\n",
       "..                    ...    ...\n",
       "409          Zihang Huang      1\n",
       "407             Zimu Zhou      1\n",
       "212               Zisu Li      1\n",
       "278        Zohreh Raghebi      1\n",
       "105              † Headfi      1\n",
       "\n",
       "[457 rows x 2 columns]"
      ]
     },
     "execution_count": 18,
     "metadata": {},
     "output_type": "execute_result"
    }
   ],
   "source": [
    "# Extract all authors into a flat list\n",
    "all_authors = []\n",
    "for authors_list in df_id_authors['Authors']:\n",
    "    all_authors.extend(authors_list)\n",
    "\n",
    "# Count occurrences of each author\n",
    "author_counts = pd.Series(all_authors).value_counts().reset_index()\n",
    "author_counts.columns = ['Author', 'Count']\n",
    "\n",
    "# Sort first by count (descending) and then by author name (ascending)\n",
    "author_counts = author_counts.sort_values(['Count', 'Author'], ascending=[False, True])\n",
    "\n",
    "# Display the results\n",
    "author_counts"
   ]
  },
  {
   "cell_type": "code",
   "execution_count": 20,
   "metadata": {},
   "outputs": [
    {
     "name": "stdout",
     "output_type": "stream",
     "text": [
      "\n",
      "Possible author match between papers 21 and 45:\n",
      "  Author in paper 21: 'Woosik Lee'\n",
      "  Author in paper 45: 'Woojin Lee'\n",
      "\n",
      "Possible author match between papers 72 and 95:\n",
      "  Author in paper 72: 'Feng Tian'\n",
      "  Author in paper 95: 'Feng Jiang'\n",
      "\n",
      "Possible author match between papers 72 and 118:\n",
      "  Author in paper 72: 'Feng Tian'\n",
      "  Author in paper 118: 'Feng Jiang'\n",
      "\n",
      "Possible author match between papers 98 and 117:\n",
      "  Author in paper 98: 'Hao Chen'\n",
      "  Author in paper 117: 'Tao Chen'\n",
      "\n",
      "Possible author match between papers 101 and 102:\n",
      "  Author in paper 101: 'Qian Zhang'\n",
      "  Author in paper 102: 'Qibo Zhang'\n"
     ]
    },
    {
     "data": {
      "text/html": [
       "<div>\n",
       "<style scoped>\n",
       "    .dataframe tbody tr th:only-of-type {\n",
       "        vertical-align: middle;\n",
       "    }\n",
       "\n",
       "    .dataframe tbody tr th {\n",
       "        vertical-align: top;\n",
       "    }\n",
       "\n",
       "    .dataframe thead th {\n",
       "        text-align: right;\n",
       "    }\n",
       "</style>\n",
       "<table border=\"1\" class=\"dataframe\">\n",
       "  <thead>\n",
       "    <tr style=\"text-align: right;\">\n",
       "      <th></th>\n",
       "      <th>1</th>\n",
       "      <th>2</th>\n",
       "      <th>3</th>\n",
       "      <th>4</th>\n",
       "      <th>5</th>\n",
       "      <th>6</th>\n",
       "      <th>7</th>\n",
       "      <th>8</th>\n",
       "      <th>9</th>\n",
       "      <th>10</th>\n",
       "      <th>...</th>\n",
       "      <th>109</th>\n",
       "      <th>110</th>\n",
       "      <th>111</th>\n",
       "      <th>112</th>\n",
       "      <th>113</th>\n",
       "      <th>114</th>\n",
       "      <th>115</th>\n",
       "      <th>116</th>\n",
       "      <th>117</th>\n",
       "      <th>118</th>\n",
       "    </tr>\n",
       "  </thead>\n",
       "  <tbody>\n",
       "    <tr>\n",
       "      <th>1</th>\n",
       "      <td>0</td>\n",
       "      <td>0</td>\n",
       "      <td>0</td>\n",
       "      <td>0</td>\n",
       "      <td>0</td>\n",
       "      <td>0</td>\n",
       "      <td>0</td>\n",
       "      <td>0</td>\n",
       "      <td>0</td>\n",
       "      <td>0</td>\n",
       "      <td>...</td>\n",
       "      <td>0</td>\n",
       "      <td>0</td>\n",
       "      <td>0</td>\n",
       "      <td>0</td>\n",
       "      <td>0</td>\n",
       "      <td>0</td>\n",
       "      <td>0</td>\n",
       "      <td>0</td>\n",
       "      <td>0</td>\n",
       "      <td>0</td>\n",
       "    </tr>\n",
       "    <tr>\n",
       "      <th>2</th>\n",
       "      <td>0</td>\n",
       "      <td>0</td>\n",
       "      <td>0</td>\n",
       "      <td>0</td>\n",
       "      <td>0</td>\n",
       "      <td>0</td>\n",
       "      <td>0</td>\n",
       "      <td>0</td>\n",
       "      <td>0</td>\n",
       "      <td>0</td>\n",
       "      <td>...</td>\n",
       "      <td>0</td>\n",
       "      <td>0</td>\n",
       "      <td>0</td>\n",
       "      <td>0</td>\n",
       "      <td>0</td>\n",
       "      <td>0</td>\n",
       "      <td>0</td>\n",
       "      <td>0</td>\n",
       "      <td>0</td>\n",
       "      <td>0</td>\n",
       "    </tr>\n",
       "    <tr>\n",
       "      <th>3</th>\n",
       "      <td>0</td>\n",
       "      <td>0</td>\n",
       "      <td>0</td>\n",
       "      <td>0</td>\n",
       "      <td>0</td>\n",
       "      <td>0</td>\n",
       "      <td>0</td>\n",
       "      <td>0</td>\n",
       "      <td>0</td>\n",
       "      <td>0</td>\n",
       "      <td>...</td>\n",
       "      <td>0</td>\n",
       "      <td>0</td>\n",
       "      <td>0</td>\n",
       "      <td>0</td>\n",
       "      <td>0</td>\n",
       "      <td>0</td>\n",
       "      <td>0</td>\n",
       "      <td>0</td>\n",
       "      <td>0</td>\n",
       "      <td>0</td>\n",
       "    </tr>\n",
       "    <tr>\n",
       "      <th>4</th>\n",
       "      <td>0</td>\n",
       "      <td>0</td>\n",
       "      <td>0</td>\n",
       "      <td>0</td>\n",
       "      <td>1</td>\n",
       "      <td>0</td>\n",
       "      <td>0</td>\n",
       "      <td>0</td>\n",
       "      <td>0</td>\n",
       "      <td>0</td>\n",
       "      <td>...</td>\n",
       "      <td>0</td>\n",
       "      <td>0</td>\n",
       "      <td>0</td>\n",
       "      <td>0</td>\n",
       "      <td>0</td>\n",
       "      <td>0</td>\n",
       "      <td>0</td>\n",
       "      <td>0</td>\n",
       "      <td>0</td>\n",
       "      <td>0</td>\n",
       "    </tr>\n",
       "    <tr>\n",
       "      <th>5</th>\n",
       "      <td>0</td>\n",
       "      <td>0</td>\n",
       "      <td>0</td>\n",
       "      <td>1</td>\n",
       "      <td>0</td>\n",
       "      <td>0</td>\n",
       "      <td>0</td>\n",
       "      <td>0</td>\n",
       "      <td>0</td>\n",
       "      <td>0</td>\n",
       "      <td>...</td>\n",
       "      <td>0</td>\n",
       "      <td>0</td>\n",
       "      <td>0</td>\n",
       "      <td>0</td>\n",
       "      <td>0</td>\n",
       "      <td>0</td>\n",
       "      <td>0</td>\n",
       "      <td>0</td>\n",
       "      <td>0</td>\n",
       "      <td>0</td>\n",
       "    </tr>\n",
       "  </tbody>\n",
       "</table>\n",
       "<p>5 rows × 118 columns</p>\n",
       "</div>"
      ],
      "text/plain": [
       "   1    2    3    4    5    6    7    8    9    10   ...  109  110  111  112  113  114  115  116  117  118\n",
       "1    0    0    0    0    0    0    0    0    0    0  ...    0    0    0    0    0    0    0    0    0    0\n",
       "2    0    0    0    0    0    0    0    0    0    0  ...    0    0    0    0    0    0    0    0    0    0\n",
       "3    0    0    0    0    0    0    0    0    0    0  ...    0    0    0    0    0    0    0    0    0    0\n",
       "4    0    0    0    0    1    0    0    0    0    0  ...    0    0    0    0    0    0    0    0    0    0\n",
       "5    0    0    0    1    0    0    0    0    0    0  ...    0    0    0    0    0    0    0    0    0    0\n",
       "\n",
       "[5 rows x 118 columns]"
      ]
     },
     "execution_count": 20,
     "metadata": {},
     "output_type": "execute_result"
    }
   ],
   "source": [
    "coauthor_matrix = pd.DataFrame(0, index=np.arange(1, 119), columns=np.arange(1, 119))\n",
    "\n",
    "ids = np.arange(1, 119)\n",
    "\n",
    "# Create a dictionary mapping paper IDs to their authors for faster lookup\n",
    "id_to_authors = {row['ID']: set(row['Authors']) for _, row in df_id_authors.iterrows()}\n",
    "\n",
    "# Function to check if two author names are similar (allowing for small differences)\n",
    "def are_similar_names(name1, name2, max_distance=1):\n",
    "    # Calculate Levenshtein distance between names\n",
    "    distance = sum(1 for a, b in zip(name1, name2) if a != b) + abs(len(name1) - len(name2))\n",
    "    return distance <= max_distance\n",
    "\n",
    "# Iterate through each pair of papers (only checking each pair once)\n",
    "for id_i in ids:\n",
    "    authors_i = id_to_authors[id_i]\n",
    "        \n",
    "    for id_j in range(id_i+1, len(ids)+1):  # Start from i+1 to avoid duplicate checks\n",
    "        authors_j = id_to_authors[id_j]\n",
    "        \n",
    "        # Check for exact author matches first\n",
    "        if len(authors_i.intersection(authors_j)) > 0:\n",
    "            coauthor_matrix.loc[id_i, id_j] = 1\n",
    "            coauthor_matrix.loc[id_j, id_i] = 1  # Matrix is symmetric\n",
    "            continue\n",
    "        \n",
    "        # If no exact match, check for similar author names\n",
    "        for author_i in authors_i:\n",
    "            for author_j in authors_j:\n",
    "                if are_similar_names(author_i, author_j, max_distance=2):\n",
    "                    # Ask user to confirm if these are the same author\n",
    "                    print(f\"\\nPossible author match between papers {id_i} and {id_j}:\")\n",
    "                    print(f\"  Author in paper {id_i}: '{author_i}'\")\n",
    "                    print(f\"  Author in paper {id_j}: '{author_j}'\")\n",
    "                    confirm = input(\"Are these the same author? (y/n): \").strip().lower() == 'y'\n",
    "                    \n",
    "                    if confirm:\n",
    "                        coauthor_matrix.loc[id_i, id_j] = 1\n",
    "                        coauthor_matrix.loc[id_j, id_i] = 1  # Matrix is symmetric\n",
    "                        print(f\"Added co-authorship between papers {id_i} and {id_j}\")\n",
    "                        # No need to check other authors once we've established a connection\n",
    "                        break\n",
    "            else:\n",
    "                continue  # Continue if the inner loop wasn't broken\n",
    "            break  # Break the outer loop if the inner loop was broken\n",
    "\n",
    "coauthor_matrix.to_csv('interconnections_datasets/coauthor_matrix.csv')\n",
    "\n",
    "# Display first few rows and columns\n",
    "coauthor_matrix.head()"
   ]
  },
  {
   "cell_type": "markdown",
   "metadata": {},
   "source": [
    "Get the Citation Matrix of out of the PDFs"
   ]
  },
  {
   "cell_type": "code",
   "execution_count": 4,
   "metadata": {},
   "outputs": [],
   "source": [
    "# DF with ID and bibtex\n",
    "df_id_bibtex = pd.read_excel('interconnections_datasets/bibtex_mapping_of_ids.xlsx')"
   ]
  },
  {
   "cell_type": "code",
   "execution_count": 14,
   "metadata": {},
   "outputs": [],
   "source": [
    "# Function to extract references from a paper using GROBID and convert to BibTeX\n",
    "def extract_references_to_bibtex(pdf_path):\n",
    "    \"\"\"Extract references from PDF using GROBID and convert to BibTeX format\"\"\"\n",
    "    references = []\n",
    "    \n",
    "    try:\n",
    "        # Read PDF content\n",
    "        with open(pdf_path, \"rb\") as pdf_file:\n",
    "            pdf_content = pdf_file.read()\n",
    "        \n",
    "        # Request GROBID to process references\n",
    "        files = {\"input\": (\"document.pdf\", pdf_content, \"application/pdf\")}\n",
    "        response = requests.post(\n",
    "            \"http://localhost:8070/api/processReferences\", \n",
    "            files=files, \n",
    "            timeout=300\n",
    "        )\n",
    "        \n",
    "        if response.status_code != 200:\n",
    "            print(f\"Error from GROBID API: {response.status_code}\")\n",
    "            return []\n",
    "            \n",
    "        # Parse XML response\n",
    "        soup = BeautifulSoup(response.text, 'xml')\n",
    "        \n",
    "        for i, bibl in enumerate(soup.find_all('biblStruct')):\n",
    "            # Extract key citation components\n",
    "            ref_id = bibl.get('xml:id', f'ref_{i}')\n",
    "            \n",
    "            # Authors\n",
    "            authors = []\n",
    "            for author_tag in bibl.find_all('author'):\n",
    "                person = author_tag.find('persName')\n",
    "                if person:\n",
    "                    surname = person.find('surname')\n",
    "                    forename = person.find('forename')\n",
    "                    \n",
    "                    if surname:\n",
    "                        author_name = surname.text\n",
    "                        if forename:\n",
    "                            author_name = f\"{author_name}, {forename.text}\"\n",
    "                        authors.append(author_name)\n",
    "            \n",
    "            # Title\n",
    "            title = \"\"\n",
    "            title_tag = bibl.find('title', {'level': 'a'})\n",
    "            if title_tag:\n",
    "                title = title_tag.text.strip()\n",
    "            \n",
    "            # Year\n",
    "            year = \"\"\n",
    "            date_tag = bibl.find('date', {'type': 'published'})\n",
    "            if date_tag and date_tag.get('when'):\n",
    "                year = date_tag.get('when').split('-')[0]  # Extract year from date\n",
    "            \n",
    "            # Journal/Conference\n",
    "            journal = \"\"\n",
    "            journal_tag = bibl.find('title', {'level': 'j'})\n",
    "            if journal_tag:\n",
    "                journal = journal_tag.text.strip()\n",
    "            else:\n",
    "                book_tag = bibl.find('title', {'level': 'm'})\n",
    "                if book_tag:\n",
    "                    journal = book_tag.text.strip()\n",
    "            \n",
    "            # Volume, Issue, Pages\n",
    "            volume = \"\"\n",
    "            vol_tag = bibl.find('biblScope', {'unit': 'volume'})\n",
    "            if vol_tag:\n",
    "                volume = vol_tag.text.strip()\n",
    "            \n",
    "            issue = \"\"\n",
    "            issue_tag = bibl.find('biblScope', {'unit': 'issue'})\n",
    "            if issue_tag:\n",
    "                issue = issue_tag.text.strip()\n",
    "            \n",
    "            pages = \"\"\n",
    "            pages_from_tag = bibl.find('biblScope', {'unit': 'page', 'from': True})\n",
    "            pages_to_tag = bibl.find('biblScope', {'unit': 'page', 'to': True})\n",
    "            if pages_from_tag and pages_to_tag:\n",
    "                pages = f\"{pages_from_tag.get('from')}--{pages_to_tag.get('to')}\"\n",
    "            elif pages_from_tag:\n",
    "                pages = pages_from_tag.get('from')\n",
    "            \n",
    "            # DOI\n",
    "            doi = \"\"\n",
    "            doi_tag = bibl.find('idno', {'type': 'DOI'})\n",
    "            if doi_tag:\n",
    "                doi = doi_tag.text.strip()\n",
    "            \n",
    "            # Create BibTeX entry\n",
    "            bibtex_id = f\"grobid_{ref_id.replace('b', '')}\"\n",
    "            bibtex_str = f\"@article{{{bibtex_id},\\n\"\n",
    "            \n",
    "            if authors:\n",
    "                bibtex_str += f\"  author = {{{' and '.join(authors)}}},\\n\"\n",
    "            if title:\n",
    "                bibtex_str += f\"  title = {{{title}}},\\n\"\n",
    "            if journal:\n",
    "                bibtex_str += f\"  journal = {{{journal}}},\\n\"\n",
    "            if year:\n",
    "                bibtex_str += f\"  year = {{{year}}},\\n\"\n",
    "            if volume:\n",
    "                bibtex_str += f\"  volume = {{{volume}}},\\n\"\n",
    "            if issue:\n",
    "                bibtex_str += f\"  number = {{{issue}}},\\n\"\n",
    "            if pages:\n",
    "                bibtex_str += f\"  pages = {{{pages}}},\\n\"\n",
    "            if doi:\n",
    "                bibtex_str += f\"  doi = {{{doi}}},\\n\"\n",
    "                \n",
    "            bibtex_str += \"}\"\n",
    "            \n",
    "            # Create structured citation data\n",
    "            citation = {\n",
    "                'bibtex': bibtex_str,\n",
    "                'authors': authors,\n",
    "                'title': title,\n",
    "                'year': year,\n",
    "                'journal': journal,\n",
    "                'doi': doi,\n",
    "                'raw_xml': str(bibl),\n",
    "                'author_last_names': [a.split(',')[0].lower().strip() if ',' in a else a.split()[-1].lower().strip() \n",
    "                                      for a in authors]\n",
    "            }\n",
    "            \n",
    "            references.append(citation)\n",
    "            \n",
    "    except Exception as e:\n",
    "        print(f\"Error extracting references: {str(e)}\")\n",
    "    \n",
    "    return references"
   ]
  },
  {
   "cell_type": "code",
   "execution_count": 15,
   "metadata": {},
   "outputs": [],
   "source": [
    "# Function to normalize BibTeX entries for comparison\n",
    "def normalize_bibtex_for_comparison(bibtex_str):\n",
    "    \"\"\"Extract key information from BibTeX for comparison\"\"\"\n",
    "    result = {\n",
    "        'authors': [],\n",
    "        'title': '',\n",
    "        'year': '',\n",
    "        'journal': '',\n",
    "        'doi': '',\n",
    "        'author_last_names': []\n",
    "    }\n",
    "    \n",
    "    # Extract authors\n",
    "    author_match = re.search(r'author\\s*=\\s*\\{(.*?)\\}', bibtex_str, re.DOTALL)\n",
    "    if author_match:\n",
    "        authors_str = author_match.group(1)\n",
    "        authors = [a.strip() for a in authors_str.split(' and ')]\n",
    "        result['authors'] = authors\n",
    "        # Extract last names\n",
    "        result['author_last_names'] = [a.split(',')[0].lower().strip() if ',' in a \n",
    "                                      else a.split()[-1].lower().strip() \n",
    "                                      for a in authors]\n",
    "    \n",
    "    # Extract title\n",
    "    title_match = re.search(r'title\\s*=\\s*\\{(.*?)\\}', bibtex_str, re.DOTALL)\n",
    "    if title_match:\n",
    "        result['title'] = re.sub(r'[\\{\\}]', '', title_match.group(1).lower())\n",
    "    \n",
    "    # Extract year\n",
    "    year_match = re.search(r'year\\s*=\\s*\\{?(\\d{4})\\}?', bibtex_str)\n",
    "    if year_match:\n",
    "        result['year'] = year_match.group(1)\n",
    "    \n",
    "    # Extract journal or booktitle\n",
    "    journal_match = re.search(r'journal\\s*=\\s*\\{(.*?)\\}', bibtex_str, re.DOTALL)\n",
    "    if not journal_match:\n",
    "        journal_match = re.search(r'booktitle\\s*=\\s*\\{(.*?)\\}', bibtex_str, re.DOTALL)\n",
    "    if journal_match:\n",
    "        result['journal'] = journal_match.group(1).lower()\n",
    "    \n",
    "    # Extract DOI\n",
    "    doi_match = re.search(r'doi\\s*=\\s*\\{(.*?)\\}', bibtex_str, re.DOTALL)\n",
    "    if doi_match:\n",
    "        result['doi'] = doi_match.group(1).lower()\n",
    "    \n",
    "    return result"
   ]
  },
  {
   "cell_type": "code",
   "execution_count": 16,
   "metadata": {},
   "outputs": [],
   "source": [
    "# Function to match citation with corpus papers\n",
    "def match_citation_to_corpus(citation_data, corpus_entries, citing_paper_id, threshold=0.5):\n",
    "    \"\"\"Match a citation to papers in the corpus\"\"\"\n",
    "    matches = []\n",
    "    \n",
    "    # Extract normalized data from citation\n",
    "    citation_title = citation_data.get('title', '').lower()\n",
    "    citation_title = re.sub(r'[^\\w\\s]', '', citation_title)\n",
    "    citation_year = citation_data.get('year', '')\n",
    "    citation_authors = citation_data.get('author_last_names', [])\n",
    "    citation_doi = citation_data.get('doi', '').lower()\n",
    "    \n",
    "    for paper_id, paper_data in corpus_entries.items():\n",
    "        # Skip self-citations (ADDED)\n",
    "        if paper_id == citing_paper_id:\n",
    "            continue\n",
    "            \n",
    "        score = 0\n",
    "        max_score = 0\n",
    "        match_details = {}\n",
    "        \n",
    "        # Extract normalized data from corpus entry\n",
    "        paper_title = paper_data.get('title', '').lower()\n",
    "        paper_title = re.sub(r'[^\\w\\s]', '', paper_title)\n",
    "        paper_year = paper_data.get('year', '')\n",
    "        paper_authors = paper_data.get('author_last_names', [])\n",
    "        paper_doi = paper_data.get('doi', '').lower()\n",
    "        \n",
    "        # Match by DOI (highest confidence)\n",
    "        if citation_doi and paper_doi and citation_doi == paper_doi:\n",
    "            return [{'paper_id': paper_id, 'score': 1.0, 'match_type': 'doi'}]\n",
    "        \n",
    "        # Match by authors (up to 2 points)\n",
    "        if citation_authors and paper_authors:\n",
    "            max_score += 2\n",
    "            matching_authors = set(citation_authors) & set(paper_authors)\n",
    "            if matching_authors:\n",
    "                author_score = min(2, len(matching_authors))\n",
    "                score += author_score\n",
    "                match_details['matching_authors'] = list(matching_authors)\n",
    "        \n",
    "        # Match by year (1 point)\n",
    "        if citation_year and paper_year:\n",
    "            max_score += 1\n",
    "            if citation_year == paper_year:\n",
    "                score += 1\n",
    "                match_details['year_match'] = True\n",
    "        \n",
    "        # Match by title (5 points max)\n",
    "        if citation_title and paper_title:\n",
    "            max_score += 5\n",
    "            \n",
    "            # Calculate title similarity\n",
    "            title_similarity = difflib.SequenceMatcher(None, citation_title, paper_title).ratio()\n",
    "            \n",
    "            # Check for title containment (special case)\n",
    "            if (len(citation_title) > 10 and len(paper_title) > 10):\n",
    "                if citation_title in paper_title or paper_title in citation_title:\n",
    "                    title_similarity = max(title_similarity, 0.8)\n",
    "            \n",
    "            title_score = title_similarity * 5\n",
    "            score += title_score\n",
    "            match_details['title_similarity'] = title_similarity\n",
    "        \n",
    "        # Calculate final score\n",
    "        if max_score > 0:\n",
    "            final_score = score / max_score\n",
    "            if final_score >= threshold:\n",
    "                matches.append({\n",
    "                    'paper_id': paper_id,\n",
    "                    'score': final_score,\n",
    "                    'details': match_details\n",
    "                })\n",
    "    \n",
    "    # Sort matches by score\n",
    "    matches.sort(key=lambda x: x['score'], reverse=True)\n",
    "    return matches"
   ]
  },
  {
   "cell_type": "code",
   "execution_count": 17,
   "metadata": {},
   "outputs": [],
   "source": [
    "# Function to build citation network with Excel-based confirmation\n",
    "def build_citation_network_with_excel(df_id_bibtex, pdf_path_dict, path_constant_part):\n",
    "    \"\"\"Build a citation network from papers and their references with Excel-based confirmation\"\"\"\n",
    "    print(\"Preparing citation network analysis...\")\n",
    "    \n",
    "    # Step 1: Create normalized corpus entries from BibTeX data\n",
    "    print(\"Normalizing corpus BibTeX entries...\")\n",
    "    corpus_entries = {}\n",
    "    \n",
    "    for _, row in df_id_bibtex.iterrows():\n",
    "        paper_id = row['ID']\n",
    "        bibtex_str = row['Bibtex'] if isinstance(row['Bibtex'], str) else \"\"\n",
    "        \n",
    "        if bibtex_str:\n",
    "            normalized_data = normalize_bibtex_for_comparison(bibtex_str)\n",
    "            corpus_entries[paper_id] = normalized_data\n",
    "    \n",
    "    print(f\"Normalized {len(corpus_entries)} papers in corpus\")\n",
    "    \n",
    "    # Step 2: Initialize citation matrix\n",
    "    paper_ids = list(corpus_entries.keys())\n",
    "    citation_matrix = pd.DataFrame(0, index=paper_ids, columns=paper_ids)\n",
    "    \n",
    "    # Step 3: Extract all references first \n",
    "    print(\"First extracting all references from papers...\")\n",
    "    all_paper_references = {}\n",
    "    \n",
    "    # Create output directory for citations\n",
    "    os.makedirs(\"extracted_citations\", exist_ok=True)\n",
    "    \n",
    "    for paper_id in tqdm(corpus_entries.keys()):\n",
    "        \n",
    "        time.sleep(1)  # To avoid overwhelming the server\n",
    "        \n",
    "        if paper_id in pdf_path_dict:\n",
    "            pdf_path = f\"{path_constant_part}{pdf_path_dict[paper_id]}\"\n",
    "            \n",
    "            # Extract references\n",
    "            print(f\"\\nExtracting references from paper {paper_id}...\")\n",
    "            references = extract_references_to_bibtex(pdf_path)\n",
    "            print(f\"Found {len(references)} references in paper {paper_id}\")\n",
    "            \n",
    "            # Save references to file\n",
    "            with open(f\"extracted_citations/paper_{paper_id}_citations.bib\", \"w\", encoding=\"utf-8\") as f:\n",
    "                for ref in references:\n",
    "                    f.write(ref['bibtex'] + \"\\n\\n\")\n",
    "            \n",
    "            all_paper_references[paper_id] = references\n",
    "    \n",
    "    # Step 4: Match references to corpus and collect uncertain matches\n",
    "    print(\"\\nMatching references to corpus papers...\")\n",
    "    citation_details = {}\n",
    "    uncertain_matches = []  # Store uncertain matches for Excel confirmation\n",
    "    high_confidence_matches = []  # Store high confidence matches\n",
    "    \n",
    "    for citing_id, references in all_paper_references.items():\n",
    "        citation_details[citing_id] = []\n",
    "        \n",
    "        for ref_idx, ref in enumerate(references):\n",
    "            matches = match_citation_to_corpus(ref, corpus_entries, citing_id)\n",
    "            \n",
    "            if matches:\n",
    "                best_match = matches[0]\n",
    "                cited_id = best_match['paper_id']\n",
    "                match_score = best_match['score']\n",
    "                \n",
    "                # High-confidence match (add directly)\n",
    "                if match_score >= 0.7:\n",
    "                    citation_matrix.loc[citing_id, cited_id] = 1\n",
    "                    high_confidence_matches.append({\n",
    "                        'citing_id': citing_id,\n",
    "                        'cited_id': cited_id,\n",
    "                        'score': match_score,\n",
    "                        'citation_title': ref.get('title', ''),\n",
    "                        'citation_authors': ', '.join(ref.get('authors', [])),\n",
    "                        'citation_year': ref.get('year', ''),\n",
    "                        'confidence': 'high',\n",
    "                        'matching_authors': ', '.join(best_match.get('details', {}).get('matching_authors', [])),\n",
    "                        'title_similarity': best_match.get('details', {}).get('title_similarity', 0),\n",
    "                        'year_match': 'Yes' if best_match.get('details', {}).get('year_match', False) else 'No',\n",
    "                        'confirmed': 'Yes'  # Auto-confirmed due to high confidence\n",
    "                    })\n",
    "                    print(f\"✓ Paper {citing_id} cites paper {cited_id} (score: {match_score:.2f})\")\n",
    "                \n",
    "                # Uncertain match (store for Excel confirmation)\n",
    "                elif match_score >= 0.5:\n",
    "                    citing_filename = pdf_path_dict.get(citing_id, f\"Unknown-{citing_id}\")\n",
    "                    cited_filename = pdf_path_dict.get(cited_id, f\"Unknown-{cited_id}\")\n",
    "                    \n",
    "                    uncertain_matches.append({\n",
    "                        'citing_id': citing_id,\n",
    "                        'citing_filename': citing_filename,\n",
    "                        'cited_id': cited_id,\n",
    "                        'cited_filename': cited_filename,\n",
    "                        'score': match_score,\n",
    "                        'citation_title': ref.get('title', ''),\n",
    "                        'citation_authors': ', '.join(ref.get('authors', [])),\n",
    "                        'citation_year': ref.get('year', ''),\n",
    "                        'confidence': 'medium',\n",
    "                        'matching_authors': ', '.join(best_match.get('details', {}).get('matching_authors', [])),\n",
    "                        'title_similarity': best_match.get('details', {}).get('title_similarity', 0),\n",
    "                        'year_match': 'Yes' if best_match.get('details', {}).get('year_match', False) else 'No',\n",
    "                        'confirmed': ''  # To be filled in Excel\n",
    "                    })\n",
    "                    print(f\"? Uncertain match: Paper {citing_id} possibly cites paper {cited_id} (score: {match_score:.2f})\")\n",
    "    \n",
    "    # Step 5: Export uncertain matches to Excel\n",
    "    if uncertain_matches:\n",
    "        print(f\"\\nExporting {len(uncertain_matches)} uncertain matches to Excel...\")\n",
    "        uncertain_df = pd.DataFrame(uncertain_matches)\n",
    "        \n",
    "        # Add instructions in first row\n",
    "        instructions = pd.DataFrame([{\n",
    "            'citing_id': 'INSTRUCTIONS',\n",
    "            'citing_filename': 'Fill in the \"confirmed\" column with: Yes, No, or leave blank to skip',\n",
    "            'cited_id': '',\n",
    "            'cited_filename': '',\n",
    "            'score': '',\n",
    "            'citation_title': '',\n",
    "            'citation_authors': '', \n",
    "            'citation_year': '',\n",
    "            'confidence': '',\n",
    "            'matching_authors': '',\n",
    "            'title_similarity': '',\n",
    "            'year_match': '',\n",
    "            'confirmed': ''\n",
    "        }])\n",
    "        \n",
    "        # Combine instructions with data\n",
    "        export_df = pd.concat([instructions, uncertain_df], ignore_index=True)\n",
    "        \n",
    "        # Export to Excel\n",
    "        excel_path = 'citation_confirmation.xlsx'\n",
    "        export_df.to_excel(excel_path, index=False)\n",
    "        print(f\"Exported uncertain matches to {excel_path}\")\n",
    "        print(\"Please fill in the 'confirmed' column with 'Yes' or 'No' and save the file.\")\n",
    "        print(\"Then run the import_citation_confirmations() function to update the citation matrix.\")\n",
    "    \n",
    "    # Also export high confidence matches for reference\n",
    "    if high_confidence_matches:\n",
    "        high_conf_df = pd.DataFrame(high_confidence_matches)\n",
    "        high_conf_df.to_excel('high_confidence_citations.xlsx', index=False)\n",
    "    \n",
    "    return citation_matrix, citation_details, uncertain_matches"
   ]
  },
  {
   "cell_type": "code",
   "execution_count": 30,
   "metadata": {},
   "outputs": [],
   "source": [
    "def import_citation_confirmations(citation_matrix):\n",
    "    \"\"\"Import citation confirmations from Excel and update the citation matrix\"\"\"\n",
    "    confirmation_file = 'citation_confirmation.xlsx'\n",
    "    \n",
    "    if not os.path.exists(confirmation_file):\n",
    "        print(f\"Error: Confirmation file {confirmation_file} not found.\")\n",
    "        return citation_matrix\n",
    "    \n",
    "    # Load confirmations, skipping the instruction row\n",
    "    confirmations = pd.read_excel(confirmation_file, header=0, skiprows=[1])\n",
    "        \n",
    "    # Count statistics\n",
    "    confirmed_count = 0\n",
    "    rejected_count = 0\n",
    "    skipped_count = 0\n",
    "    \n",
    "    # Process each confirmation\n",
    "    for _, row in confirmations.iterrows():\n",
    "        citing_id = row['citing_id']\n",
    "        cited_id = row['cited_id']\n",
    "        confirmation = str(row['confirmed']).strip().lower()\n",
    "        \n",
    "        if confirmation == 'yes':\n",
    "            citation_matrix.loc[citing_id, cited_id] = 1\n",
    "            confirmed_count += 1\n",
    "        elif confirmation == 'no':\n",
    "            # Ensure it's set to 0 (though it should already be)\n",
    "            citation_matrix.loc[citing_id, cited_id] = 0\n",
    "            rejected_count += 1\n",
    "        else:\n",
    "            skipped_count += 1\n",
    "    \n",
    "    # Print summary\n",
    "    print(f\"\\nCitation Confirmation Summary:\")\n",
    "    print(f\"- Confirmed: {confirmed_count}\")\n",
    "    print(f\"- Rejected: {rejected_count}\")\n",
    "    print(f\"- Skipped: {skipped_count}\")\n",
    "    \n",
    "    # Save updated matrix\n",
    "    citation_matrix.to_csv('interconnections_datasets/citation_matrix.csv')\n",
    "    print(\"Updated citation matrix saved to 'interconnections_datasets/citation_matrix.csv'\")\n",
    "    \n",
    "    return citation_matrix"
   ]
  },
  {
   "cell_type": "code",
   "execution_count": 10,
   "metadata": {},
   "outputs": [
    {
     "name": "stdout",
     "output_type": "stream",
     "text": [
      "Preparing citation network analysis...\n",
      "Normalizing corpus BibTeX entries...\n",
      "Normalized 118 papers in corpus\n",
      "First extracting all references from papers...\n"
     ]
    },
    {
     "name": "stderr",
     "output_type": "stream",
     "text": [
      "  0%|          | 0/118 [00:00<?, ?it/s]"
     ]
    },
    {
     "name": "stdout",
     "output_type": "stream",
     "text": [
      "\n",
      "Extracting references from paper 1...\n"
     ]
    },
    {
     "name": "stderr",
     "output_type": "stream",
     "text": [
      "  1%|          | 1/118 [00:45<1:29:21, 45.83s/it]"
     ]
    },
    {
     "name": "stdout",
     "output_type": "stream",
     "text": [
      "Found 11 references in paper 1\n",
      "\n",
      "Extracting references from paper 2...\n"
     ]
    },
    {
     "name": "stderr",
     "output_type": "stream",
     "text": [
      "  2%|▏         | 2/118 [00:48<39:47, 20.58s/it]  "
     ]
    },
    {
     "name": "stdout",
     "output_type": "stream",
     "text": [
      "Found 15 references in paper 2\n",
      "\n",
      "Extracting references from paper 3...\n"
     ]
    },
    {
     "name": "stderr",
     "output_type": "stream",
     "text": [
      "  3%|▎         | 3/118 [00:51<23:36, 12.32s/it]"
     ]
    },
    {
     "name": "stdout",
     "output_type": "stream",
     "text": [
      "Found 5 references in paper 3\n",
      "\n",
      "Extracting references from paper 4...\n"
     ]
    },
    {
     "name": "stderr",
     "output_type": "stream",
     "text": [
      "  3%|▎         | 4/118 [00:53<16:05,  8.47s/it]"
     ]
    },
    {
     "name": "stdout",
     "output_type": "stream",
     "text": [
      "Found 8 references in paper 4\n",
      "\n",
      "Extracting references from paper 5...\n"
     ]
    },
    {
     "name": "stderr",
     "output_type": "stream",
     "text": [
      "  4%|▍         | 5/118 [00:56<11:47,  6.26s/it]"
     ]
    },
    {
     "name": "stdout",
     "output_type": "stream",
     "text": [
      "Found 10 references in paper 5\n",
      "\n",
      "Extracting references from paper 6...\n"
     ]
    },
    {
     "name": "stderr",
     "output_type": "stream",
     "text": [
      "  5%|▌         | 6/118 [00:58<09:20,  5.01s/it]"
     ]
    },
    {
     "name": "stdout",
     "output_type": "stream",
     "text": [
      "Found 8 references in paper 6\n",
      "\n",
      "Extracting references from paper 7...\n"
     ]
    },
    {
     "name": "stderr",
     "output_type": "stream",
     "text": [
      "  6%|▌         | 7/118 [01:01<07:56,  4.29s/it]"
     ]
    },
    {
     "name": "stdout",
     "output_type": "stream",
     "text": [
      "Found 21 references in paper 7\n",
      "\n",
      "Extracting references from paper 8...\n"
     ]
    },
    {
     "name": "stderr",
     "output_type": "stream",
     "text": [
      "  7%|▋         | 8/118 [01:05<07:27,  4.07s/it]"
     ]
    },
    {
     "name": "stdout",
     "output_type": "stream",
     "text": [
      "Found 5 references in paper 8\n",
      "\n",
      "Extracting references from paper 9...\n"
     ]
    },
    {
     "name": "stderr",
     "output_type": "stream",
     "text": [
      "  8%|▊         | 9/118 [01:07<06:37,  3.64s/it]"
     ]
    },
    {
     "name": "stdout",
     "output_type": "stream",
     "text": [
      "Found 20 references in paper 9\n",
      "\n",
      "Extracting references from paper 10...\n"
     ]
    },
    {
     "name": "stderr",
     "output_type": "stream",
     "text": [
      "  8%|▊         | 10/118 [01:10<05:53,  3.27s/it]"
     ]
    },
    {
     "name": "stdout",
     "output_type": "stream",
     "text": [
      "Found 10 references in paper 10\n",
      "\n",
      "Extracting references from paper 11...\n"
     ]
    },
    {
     "name": "stderr",
     "output_type": "stream",
     "text": [
      "  9%|▉         | 11/118 [01:12<05:22,  3.01s/it]"
     ]
    },
    {
     "name": "stdout",
     "output_type": "stream",
     "text": [
      "Found 12 references in paper 11\n",
      "\n",
      "Extracting references from paper 12...\n"
     ]
    },
    {
     "name": "stderr",
     "output_type": "stream",
     "text": [
      " 10%|█         | 12/118 [01:15<05:05,  2.88s/it]"
     ]
    },
    {
     "name": "stdout",
     "output_type": "stream",
     "text": [
      "Found 4 references in paper 12\n",
      "\n",
      "Extracting references from paper 13...\n"
     ]
    },
    {
     "name": "stderr",
     "output_type": "stream",
     "text": [
      " 11%|█         | 13/118 [01:17<04:44,  2.71s/it]"
     ]
    },
    {
     "name": "stdout",
     "output_type": "stream",
     "text": [
      "Found 9 references in paper 13\n",
      "\n",
      "Extracting references from paper 14...\n"
     ]
    },
    {
     "name": "stderr",
     "output_type": "stream",
     "text": [
      " 12%|█▏        | 14/118 [01:20<04:40,  2.70s/it]"
     ]
    },
    {
     "name": "stdout",
     "output_type": "stream",
     "text": [
      "Found 12 references in paper 14\n",
      "\n",
      "Extracting references from paper 15...\n"
     ]
    },
    {
     "name": "stderr",
     "output_type": "stream",
     "text": [
      " 13%|█▎        | 15/118 [01:23<04:40,  2.72s/it]"
     ]
    },
    {
     "name": "stdout",
     "output_type": "stream",
     "text": [
      "Error from GROBID API: 204\n",
      "Found 0 references in paper 15\n",
      "\n",
      "Extracting references from paper 16...\n"
     ]
    },
    {
     "name": "stderr",
     "output_type": "stream",
     "text": [
      " 14%|█▎        | 16/118 [01:27<05:28,  3.23s/it]"
     ]
    },
    {
     "name": "stdout",
     "output_type": "stream",
     "text": [
      "Found 23 references in paper 16\n",
      "\n",
      "Extracting references from paper 17...\n"
     ]
    },
    {
     "name": "stderr",
     "output_type": "stream",
     "text": [
      " 14%|█▍        | 17/118 [01:30<05:12,  3.10s/it]"
     ]
    },
    {
     "name": "stdout",
     "output_type": "stream",
     "text": [
      "Found 34 references in paper 17\n",
      "\n",
      "Extracting references from paper 18...\n"
     ]
    },
    {
     "name": "stderr",
     "output_type": "stream",
     "text": [
      " 15%|█▌        | 18/118 [01:33<05:21,  3.22s/it]"
     ]
    },
    {
     "name": "stdout",
     "output_type": "stream",
     "text": [
      "Found 39 references in paper 18\n",
      "\n",
      "Extracting references from paper 19...\n"
     ]
    },
    {
     "name": "stderr",
     "output_type": "stream",
     "text": [
      " 16%|█▌        | 19/118 [01:36<04:57,  3.00s/it]"
     ]
    },
    {
     "name": "stdout",
     "output_type": "stream",
     "text": [
      "Found 9 references in paper 19\n",
      "\n",
      "Extracting references from paper 20...\n"
     ]
    },
    {
     "name": "stderr",
     "output_type": "stream",
     "text": [
      " 17%|█▋        | 20/118 [01:39<05:09,  3.16s/it]"
     ]
    },
    {
     "name": "stdout",
     "output_type": "stream",
     "text": [
      "Found 29 references in paper 20\n",
      "\n",
      "Extracting references from paper 21...\n"
     ]
    },
    {
     "name": "stderr",
     "output_type": "stream",
     "text": [
      " 18%|█▊        | 21/118 [01:42<04:59,  3.08s/it]"
     ]
    },
    {
     "name": "stdout",
     "output_type": "stream",
     "text": [
      "Found 46 references in paper 21\n",
      "\n",
      "Extracting references from paper 22...\n"
     ]
    },
    {
     "name": "stderr",
     "output_type": "stream",
     "text": [
      " 19%|█▊        | 22/118 [01:45<04:41,  2.93s/it]"
     ]
    },
    {
     "name": "stdout",
     "output_type": "stream",
     "text": [
      "Found 16 references in paper 22\n",
      "\n",
      "Extracting references from paper 23...\n"
     ]
    },
    {
     "name": "stderr",
     "output_type": "stream",
     "text": [
      " 19%|█▉        | 23/118 [01:50<05:45,  3.64s/it]"
     ]
    },
    {
     "name": "stdout",
     "output_type": "stream",
     "text": [
      "Found 42 references in paper 23\n",
      "\n",
      "Extracting references from paper 24...\n"
     ]
    },
    {
     "name": "stderr",
     "output_type": "stream",
     "text": [
      " 20%|██        | 24/118 [01:54<05:44,  3.67s/it]"
     ]
    },
    {
     "name": "stdout",
     "output_type": "stream",
     "text": [
      "Found 56 references in paper 24\n",
      "\n",
      "Extracting references from paper 25...\n"
     ]
    },
    {
     "name": "stderr",
     "output_type": "stream",
     "text": [
      " 21%|██        | 25/118 [01:56<05:11,  3.35s/it]"
     ]
    },
    {
     "name": "stdout",
     "output_type": "stream",
     "text": [
      "Found 24 references in paper 25\n",
      "\n",
      "Extracting references from paper 26...\n"
     ]
    },
    {
     "name": "stderr",
     "output_type": "stream",
     "text": [
      " 22%|██▏       | 26/118 [01:59<04:45,  3.10s/it]"
     ]
    },
    {
     "name": "stdout",
     "output_type": "stream",
     "text": [
      "Found 16 references in paper 26\n",
      "\n",
      "Extracting references from paper 27...\n"
     ]
    },
    {
     "name": "stderr",
     "output_type": "stream",
     "text": [
      " 23%|██▎       | 27/118 [02:02<04:55,  3.24s/it]"
     ]
    },
    {
     "name": "stdout",
     "output_type": "stream",
     "text": [
      "Found 60 references in paper 27\n",
      "\n",
      "Extracting references from paper 28...\n"
     ]
    },
    {
     "name": "stderr",
     "output_type": "stream",
     "text": [
      " 24%|██▎       | 28/118 [02:06<04:57,  3.31s/it]"
     ]
    },
    {
     "name": "stdout",
     "output_type": "stream",
     "text": [
      "Found 37 references in paper 28\n",
      "\n",
      "Extracting references from paper 29...\n"
     ]
    },
    {
     "name": "stderr",
     "output_type": "stream",
     "text": [
      " 25%|██▍       | 29/118 [02:09<04:49,  3.25s/it]"
     ]
    },
    {
     "name": "stdout",
     "output_type": "stream",
     "text": [
      "Found 38 references in paper 29\n",
      "\n",
      "Extracting references from paper 30...\n"
     ]
    },
    {
     "name": "stderr",
     "output_type": "stream",
     "text": [
      " 25%|██▌       | 30/118 [02:12<04:28,  3.06s/it]"
     ]
    },
    {
     "name": "stdout",
     "output_type": "stream",
     "text": [
      "Found 24 references in paper 30\n",
      "\n",
      "Extracting references from paper 31...\n"
     ]
    },
    {
     "name": "stderr",
     "output_type": "stream",
     "text": [
      " 26%|██▋       | 31/118 [02:14<04:19,  2.98s/it]"
     ]
    },
    {
     "name": "stdout",
     "output_type": "stream",
     "text": [
      "Found 22 references in paper 31\n",
      "\n",
      "Extracting references from paper 32...\n"
     ]
    },
    {
     "name": "stderr",
     "output_type": "stream",
     "text": [
      " 27%|██▋       | 32/118 [02:17<04:17,  2.99s/it]"
     ]
    },
    {
     "name": "stdout",
     "output_type": "stream",
     "text": [
      "Found 46 references in paper 32\n",
      "\n",
      "Extracting references from paper 33...\n"
     ]
    },
    {
     "name": "stderr",
     "output_type": "stream",
     "text": [
      " 28%|██▊       | 33/118 [02:20<03:57,  2.80s/it]"
     ]
    },
    {
     "name": "stdout",
     "output_type": "stream",
     "text": [
      "Found 10 references in paper 33\n",
      "\n",
      "Extracting references from paper 34...\n"
     ]
    },
    {
     "name": "stderr",
     "output_type": "stream",
     "text": [
      " 29%|██▉       | 34/118 [02:22<03:46,  2.70s/it]"
     ]
    },
    {
     "name": "stdout",
     "output_type": "stream",
     "text": [
      "Found 9 references in paper 34\n",
      "\n",
      "Extracting references from paper 35...\n"
     ]
    },
    {
     "name": "stderr",
     "output_type": "stream",
     "text": [
      " 30%|██▉       | 35/118 [02:25<03:51,  2.79s/it]"
     ]
    },
    {
     "name": "stdout",
     "output_type": "stream",
     "text": [
      "Found 37 references in paper 35\n",
      "\n",
      "Extracting references from paper 36...\n"
     ]
    },
    {
     "name": "stderr",
     "output_type": "stream",
     "text": [
      " 31%|███       | 36/118 [02:28<03:47,  2.77s/it]"
     ]
    },
    {
     "name": "stdout",
     "output_type": "stream",
     "text": [
      "Found 26 references in paper 36\n",
      "\n",
      "Extracting references from paper 37...\n"
     ]
    },
    {
     "name": "stderr",
     "output_type": "stream",
     "text": [
      " 31%|███▏      | 37/118 [02:32<04:17,  3.18s/it]"
     ]
    },
    {
     "name": "stdout",
     "output_type": "stream",
     "text": [
      "Found 89 references in paper 37\n",
      "\n",
      "Extracting references from paper 38...\n"
     ]
    },
    {
     "name": "stderr",
     "output_type": "stream",
     "text": [
      " 32%|███▏      | 38/118 [02:35<04:18,  3.23s/it]"
     ]
    },
    {
     "name": "stdout",
     "output_type": "stream",
     "text": [
      "Found 45 references in paper 38\n",
      "\n",
      "Extracting references from paper 39...\n"
     ]
    },
    {
     "name": "stderr",
     "output_type": "stream",
     "text": [
      " 33%|███▎      | 39/118 [02:38<04:01,  3.06s/it]"
     ]
    },
    {
     "name": "stdout",
     "output_type": "stream",
     "text": [
      "Found 17 references in paper 39\n",
      "\n",
      "Extracting references from paper 40...\n"
     ]
    },
    {
     "name": "stderr",
     "output_type": "stream",
     "text": [
      " 34%|███▍      | 40/118 [02:44<04:54,  3.77s/it]"
     ]
    },
    {
     "name": "stdout",
     "output_type": "stream",
     "text": [
      "Found 77 references in paper 40\n",
      "\n",
      "Extracting references from paper 41...\n"
     ]
    },
    {
     "name": "stderr",
     "output_type": "stream",
     "text": [
      " 35%|███▍      | 41/118 [02:47<04:39,  3.63s/it]"
     ]
    },
    {
     "name": "stdout",
     "output_type": "stream",
     "text": [
      "Found 17 references in paper 41\n",
      "\n",
      "Extracting references from paper 42...\n"
     ]
    },
    {
     "name": "stderr",
     "output_type": "stream",
     "text": [
      " 36%|███▌      | 42/118 [02:51<04:41,  3.71s/it]"
     ]
    },
    {
     "name": "stdout",
     "output_type": "stream",
     "text": [
      "Found 17 references in paper 42\n",
      "\n",
      "Extracting references from paper 43...\n"
     ]
    },
    {
     "name": "stderr",
     "output_type": "stream",
     "text": [
      " 36%|███▋      | 43/118 [02:55<04:40,  3.74s/it]"
     ]
    },
    {
     "name": "stdout",
     "output_type": "stream",
     "text": [
      "Found 15 references in paper 43\n",
      "\n",
      "Extracting references from paper 44...\n"
     ]
    },
    {
     "name": "stderr",
     "output_type": "stream",
     "text": [
      " 37%|███▋      | 44/118 [02:59<04:42,  3.82s/it]"
     ]
    },
    {
     "name": "stdout",
     "output_type": "stream",
     "text": [
      "Found 20 references in paper 44\n",
      "\n",
      "Extracting references from paper 45...\n"
     ]
    },
    {
     "name": "stderr",
     "output_type": "stream",
     "text": [
      " 38%|███▊      | 45/118 [03:02<04:38,  3.82s/it]"
     ]
    },
    {
     "name": "stdout",
     "output_type": "stream",
     "text": [
      "Found 40 references in paper 45\n",
      "\n",
      "Extracting references from paper 46...\n"
     ]
    },
    {
     "name": "stderr",
     "output_type": "stream",
     "text": [
      " 39%|███▉      | 46/118 [03:05<04:18,  3.59s/it]"
     ]
    },
    {
     "name": "stdout",
     "output_type": "stream",
     "text": [
      "Found 11 references in paper 46\n",
      "\n",
      "Extracting references from paper 47...\n"
     ]
    },
    {
     "name": "stderr",
     "output_type": "stream",
     "text": [
      " 40%|███▉      | 47/118 [03:08<03:52,  3.28s/it]"
     ]
    },
    {
     "name": "stdout",
     "output_type": "stream",
     "text": [
      "Found 16 references in paper 47\n",
      "\n",
      "Extracting references from paper 48...\n"
     ]
    },
    {
     "name": "stderr",
     "output_type": "stream",
     "text": [
      " 41%|████      | 48/118 [03:10<03:30,  3.01s/it]"
     ]
    },
    {
     "name": "stdout",
     "output_type": "stream",
     "text": [
      "Found 4 references in paper 48\n",
      "\n",
      "Extracting references from paper 49...\n"
     ]
    },
    {
     "name": "stderr",
     "output_type": "stream",
     "text": [
      " 42%|████▏     | 49/118 [03:13<03:24,  2.97s/it]"
     ]
    },
    {
     "name": "stdout",
     "output_type": "stream",
     "text": [
      "Found 15 references in paper 49\n",
      "\n",
      "Extracting references from paper 50...\n"
     ]
    },
    {
     "name": "stderr",
     "output_type": "stream",
     "text": [
      " 42%|████▏     | 50/118 [03:16<03:17,  2.90s/it]"
     ]
    },
    {
     "name": "stdout",
     "output_type": "stream",
     "text": [
      "Found 11 references in paper 50\n",
      "\n",
      "Extracting references from paper 51...\n"
     ]
    },
    {
     "name": "stderr",
     "output_type": "stream",
     "text": [
      " 43%|████▎     | 51/118 [03:19<03:18,  2.97s/it]"
     ]
    },
    {
     "name": "stdout",
     "output_type": "stream",
     "text": [
      "Found 37 references in paper 51\n",
      "\n",
      "Extracting references from paper 52...\n"
     ]
    },
    {
     "name": "stderr",
     "output_type": "stream",
     "text": [
      " 44%|████▍     | 52/118 [03:26<04:40,  4.25s/it]"
     ]
    },
    {
     "name": "stdout",
     "output_type": "stream",
     "text": [
      "Found 61 references in paper 52\n",
      "\n",
      "Extracting references from paper 53...\n"
     ]
    },
    {
     "name": "stderr",
     "output_type": "stream",
     "text": [
      " 45%|████▍     | 53/118 [03:33<05:21,  4.95s/it]"
     ]
    },
    {
     "name": "stdout",
     "output_type": "stream",
     "text": [
      "Found 52 references in paper 53\n",
      "\n",
      "Extracting references from paper 54...\n"
     ]
    },
    {
     "name": "stderr",
     "output_type": "stream",
     "text": [
      " 46%|████▌     | 54/118 [03:38<05:26,  5.10s/it]"
     ]
    },
    {
     "name": "stdout",
     "output_type": "stream",
     "text": [
      "Found 62 references in paper 54\n",
      "\n",
      "Extracting references from paper 55...\n"
     ]
    },
    {
     "name": "stderr",
     "output_type": "stream",
     "text": [
      " 47%|████▋     | 55/118 [03:44<05:39,  5.38s/it]"
     ]
    },
    {
     "name": "stdout",
     "output_type": "stream",
     "text": [
      "Found 39 references in paper 55\n",
      "\n",
      "Extracting references from paper 56...\n"
     ]
    },
    {
     "name": "stderr",
     "output_type": "stream",
     "text": [
      " 47%|████▋     | 56/118 [03:53<06:32,  6.33s/it]"
     ]
    },
    {
     "name": "stdout",
     "output_type": "stream",
     "text": [
      "Found 40 references in paper 56\n",
      "\n",
      "Extracting references from paper 57...\n"
     ]
    },
    {
     "name": "stderr",
     "output_type": "stream",
     "text": [
      " 48%|████▊     | 57/118 [03:58<06:06,  6.01s/it]"
     ]
    },
    {
     "name": "stdout",
     "output_type": "stream",
     "text": [
      "Found 74 references in paper 57\n",
      "\n",
      "Extracting references from paper 58...\n"
     ]
    },
    {
     "name": "stderr",
     "output_type": "stream",
     "text": [
      " 49%|████▉     | 58/118 [04:04<05:55,  5.92s/it]"
     ]
    },
    {
     "name": "stdout",
     "output_type": "stream",
     "text": [
      "Found 80 references in paper 58\n",
      "\n",
      "Extracting references from paper 59...\n"
     ]
    },
    {
     "name": "stderr",
     "output_type": "stream",
     "text": [
      " 50%|█████     | 59/118 [04:10<05:58,  6.08s/it]"
     ]
    },
    {
     "name": "stdout",
     "output_type": "stream",
     "text": [
      "Found 60 references in paper 59\n",
      "\n",
      "Extracting references from paper 60...\n"
     ]
    },
    {
     "name": "stderr",
     "output_type": "stream",
     "text": [
      " 51%|█████     | 60/118 [04:16<05:39,  5.85s/it]"
     ]
    },
    {
     "name": "stdout",
     "output_type": "stream",
     "text": [
      "Found 41 references in paper 60\n",
      "\n",
      "Extracting references from paper 61...\n"
     ]
    },
    {
     "name": "stderr",
     "output_type": "stream",
     "text": [
      " 52%|█████▏    | 61/118 [04:20<05:02,  5.30s/it]"
     ]
    },
    {
     "name": "stdout",
     "output_type": "stream",
     "text": [
      "Found 58 references in paper 61\n",
      "\n",
      "Extracting references from paper 62...\n"
     ]
    },
    {
     "name": "stderr",
     "output_type": "stream",
     "text": [
      " 53%|█████▎    | 62/118 [04:23<04:14,  4.54s/it]"
     ]
    },
    {
     "name": "stdout",
     "output_type": "stream",
     "text": [
      "Found 30 references in paper 62\n",
      "\n",
      "Extracting references from paper 63...\n"
     ]
    },
    {
     "name": "stderr",
     "output_type": "stream",
     "text": [
      " 53%|█████▎    | 63/118 [04:25<03:41,  4.03s/it]"
     ]
    },
    {
     "name": "stdout",
     "output_type": "stream",
     "text": [
      "Found 42 references in paper 63\n",
      "\n",
      "Extracting references from paper 64...\n"
     ]
    },
    {
     "name": "stderr",
     "output_type": "stream",
     "text": [
      " 54%|█████▍    | 64/118 [04:31<04:07,  4.59s/it]"
     ]
    },
    {
     "name": "stdout",
     "output_type": "stream",
     "text": [
      "Found 77 references in paper 64\n",
      "\n",
      "Extracting references from paper 65...\n"
     ]
    },
    {
     "name": "stderr",
     "output_type": "stream",
     "text": [
      " 55%|█████▌    | 65/118 [04:36<04:10,  4.73s/it]"
     ]
    },
    {
     "name": "stdout",
     "output_type": "stream",
     "text": [
      "Found 92 references in paper 65\n",
      "\n",
      "Extracting references from paper 66...\n"
     ]
    },
    {
     "name": "stderr",
     "output_type": "stream",
     "text": [
      " 56%|█████▌    | 66/118 [04:39<03:34,  4.12s/it]"
     ]
    },
    {
     "name": "stdout",
     "output_type": "stream",
     "text": [
      "Found 23 references in paper 66\n",
      "\n",
      "Extracting references from paper 67...\n"
     ]
    },
    {
     "name": "stderr",
     "output_type": "stream",
     "text": [
      " 57%|█████▋    | 67/118 [04:42<03:11,  3.76s/it]"
     ]
    },
    {
     "name": "stdout",
     "output_type": "stream",
     "text": [
      "Found 34 references in paper 67\n",
      "\n",
      "Extracting references from paper 68...\n"
     ]
    },
    {
     "name": "stderr",
     "output_type": "stream",
     "text": [
      " 58%|█████▊    | 68/118 [04:47<03:27,  4.15s/it]"
     ]
    },
    {
     "name": "stdout",
     "output_type": "stream",
     "text": [
      "Found 46 references in paper 68\n",
      "\n",
      "Extracting references from paper 69...\n"
     ]
    },
    {
     "name": "stderr",
     "output_type": "stream",
     "text": [
      " 58%|█████▊    | 69/118 [04:50<03:08,  3.84s/it]"
     ]
    },
    {
     "name": "stdout",
     "output_type": "stream",
     "text": [
      "Found 42 references in paper 69\n",
      "\n",
      "Extracting references from paper 70...\n"
     ]
    },
    {
     "name": "stderr",
     "output_type": "stream",
     "text": [
      " 59%|█████▉    | 70/118 [04:53<02:47,  3.50s/it]"
     ]
    },
    {
     "name": "stdout",
     "output_type": "stream",
     "text": [
      "Found 22 references in paper 70\n",
      "\n",
      "Extracting references from paper 71...\n"
     ]
    },
    {
     "name": "stderr",
     "output_type": "stream",
     "text": [
      " 60%|██████    | 71/118 [04:58<03:05,  3.95s/it]"
     ]
    },
    {
     "name": "stdout",
     "output_type": "stream",
     "text": [
      "Found 58 references in paper 71\n",
      "\n",
      "Extracting references from paper 72...\n"
     ]
    },
    {
     "name": "stderr",
     "output_type": "stream",
     "text": [
      " 61%|██████    | 72/118 [05:01<02:56,  3.83s/it]"
     ]
    },
    {
     "name": "stdout",
     "output_type": "stream",
     "text": [
      "Found 41 references in paper 72\n",
      "\n",
      "Extracting references from paper 73...\n"
     ]
    },
    {
     "name": "stderr",
     "output_type": "stream",
     "text": [
      " 62%|██████▏   | 73/118 [05:07<03:11,  4.25s/it]"
     ]
    },
    {
     "name": "stdout",
     "output_type": "stream",
     "text": [
      "Found 85 references in paper 73\n",
      "\n",
      "Extracting references from paper 74...\n"
     ]
    },
    {
     "name": "stderr",
     "output_type": "stream",
     "text": [
      " 63%|██████▎   | 74/118 [05:18<04:47,  6.54s/it]"
     ]
    },
    {
     "name": "stdout",
     "output_type": "stream",
     "text": [
      "Found 70 references in paper 74\n",
      "\n",
      "Extracting references from paper 75...\n"
     ]
    },
    {
     "name": "stderr",
     "output_type": "stream",
     "text": [
      " 64%|██████▎   | 75/118 [05:23<04:08,  5.79s/it]"
     ]
    },
    {
     "name": "stdout",
     "output_type": "stream",
     "text": [
      "Found 46 references in paper 75\n",
      "\n",
      "Extracting references from paper 76...\n"
     ]
    },
    {
     "name": "stderr",
     "output_type": "stream",
     "text": [
      " 64%|██████▍   | 76/118 [05:25<03:27,  4.93s/it]"
     ]
    },
    {
     "name": "stdout",
     "output_type": "stream",
     "text": [
      "Found 35 references in paper 76\n",
      "\n",
      "Extracting references from paper 77...\n"
     ]
    },
    {
     "name": "stderr",
     "output_type": "stream",
     "text": [
      " 65%|██████▌   | 77/118 [05:31<03:24,  5.00s/it]"
     ]
    },
    {
     "name": "stdout",
     "output_type": "stream",
     "text": [
      "Found 38 references in paper 77\n",
      "\n",
      "Extracting references from paper 78...\n"
     ]
    },
    {
     "name": "stderr",
     "output_type": "stream",
     "text": [
      " 66%|██████▌   | 78/118 [05:36<03:19,  5.00s/it]"
     ]
    },
    {
     "name": "stdout",
     "output_type": "stream",
     "text": [
      "Found 101 references in paper 78\n",
      "\n",
      "Extracting references from paper 79...\n"
     ]
    },
    {
     "name": "stderr",
     "output_type": "stream",
     "text": [
      " 67%|██████▋   | 79/118 [05:39<02:53,  4.45s/it]"
     ]
    },
    {
     "name": "stdout",
     "output_type": "stream",
     "text": [
      "Found 45 references in paper 79\n",
      "\n",
      "Extracting references from paper 80...\n"
     ]
    },
    {
     "name": "stderr",
     "output_type": "stream",
     "text": [
      " 68%|██████▊   | 80/118 [05:48<03:41,  5.83s/it]"
     ]
    },
    {
     "name": "stdout",
     "output_type": "stream",
     "text": [
      "Found 77 references in paper 80\n",
      "\n",
      "Extracting references from paper 81...\n"
     ]
    },
    {
     "name": "stderr",
     "output_type": "stream",
     "text": [
      " 69%|██████▊   | 81/118 [05:52<03:18,  5.38s/it]"
     ]
    },
    {
     "name": "stdout",
     "output_type": "stream",
     "text": [
      "Found 45 references in paper 81\n",
      "\n",
      "Extracting references from paper 82...\n"
     ]
    },
    {
     "name": "stderr",
     "output_type": "stream",
     "text": [
      " 69%|██████▉   | 82/118 [05:56<02:57,  4.94s/it]"
     ]
    },
    {
     "name": "stdout",
     "output_type": "stream",
     "text": [
      "Found 43 references in paper 82\n",
      "\n",
      "Extracting references from paper 83...\n"
     ]
    },
    {
     "name": "stderr",
     "output_type": "stream",
     "text": [
      " 70%|███████   | 83/118 [06:00<02:46,  4.75s/it]"
     ]
    },
    {
     "name": "stdout",
     "output_type": "stream",
     "text": [
      "Found 49 references in paper 83\n",
      "\n",
      "Extracting references from paper 84...\n"
     ]
    },
    {
     "name": "stderr",
     "output_type": "stream",
     "text": [
      " 71%|███████   | 84/118 [06:05<02:43,  4.82s/it]"
     ]
    },
    {
     "name": "stdout",
     "output_type": "stream",
     "text": [
      "Found 97 references in paper 84\n",
      "\n",
      "Extracting references from paper 85...\n"
     ]
    },
    {
     "name": "stderr",
     "output_type": "stream",
     "text": [
      " 72%|███████▏  | 85/118 [06:10<02:37,  4.76s/it]"
     ]
    },
    {
     "name": "stdout",
     "output_type": "stream",
     "text": [
      "Found 69 references in paper 85\n",
      "\n",
      "Extracting references from paper 86...\n"
     ]
    },
    {
     "name": "stderr",
     "output_type": "stream",
     "text": [
      " 73%|███████▎  | 86/118 [06:15<02:32,  4.76s/it]"
     ]
    },
    {
     "name": "stdout",
     "output_type": "stream",
     "text": [
      "Found 87 references in paper 86\n",
      "\n",
      "Extracting references from paper 87...\n"
     ]
    },
    {
     "name": "stderr",
     "output_type": "stream",
     "text": [
      " 74%|███████▎  | 87/118 [06:17<02:05,  4.06s/it]"
     ]
    },
    {
     "name": "stdout",
     "output_type": "stream",
     "text": [
      "Found 14 references in paper 87\n",
      "\n",
      "Extracting references from paper 88...\n"
     ]
    },
    {
     "name": "stderr",
     "output_type": "stream",
     "text": [
      " 75%|███████▍  | 88/118 [06:20<01:48,  3.60s/it]"
     ]
    },
    {
     "name": "stdout",
     "output_type": "stream",
     "text": [
      "Found 16 references in paper 88\n",
      "\n",
      "Extracting references from paper 89...\n"
     ]
    },
    {
     "name": "stderr",
     "output_type": "stream",
     "text": [
      " 75%|███████▌  | 89/118 [06:22<01:36,  3.32s/it]"
     ]
    },
    {
     "name": "stdout",
     "output_type": "stream",
     "text": [
      "Found 20 references in paper 89\n",
      "\n",
      "Extracting references from paper 90...\n"
     ]
    },
    {
     "name": "stderr",
     "output_type": "stream",
     "text": [
      " 76%|███████▋  | 90/118 [06:41<03:45,  8.05s/it]"
     ]
    },
    {
     "name": "stdout",
     "output_type": "stream",
     "text": [
      "Found 62 references in paper 90\n",
      "\n",
      "Extracting references from paper 91...\n"
     ]
    },
    {
     "name": "stderr",
     "output_type": "stream",
     "text": [
      " 77%|███████▋  | 91/118 [06:47<03:13,  7.18s/it]"
     ]
    },
    {
     "name": "stdout",
     "output_type": "stream",
     "text": [
      "Found 84 references in paper 91\n",
      "\n",
      "Extracting references from paper 92...\n"
     ]
    },
    {
     "name": "stderr",
     "output_type": "stream",
     "text": [
      " 78%|███████▊  | 92/118 [06:50<02:39,  6.12s/it]"
     ]
    },
    {
     "name": "stdout",
     "output_type": "stream",
     "text": [
      "Found 87 references in paper 92\n",
      "\n",
      "Extracting references from paper 93...\n"
     ]
    },
    {
     "name": "stderr",
     "output_type": "stream",
     "text": [
      " 79%|███████▉  | 93/118 [06:54<02:11,  5.26s/it]"
     ]
    },
    {
     "name": "stdout",
     "output_type": "stream",
     "text": [
      "Found 51 references in paper 93\n",
      "\n",
      "Extracting references from paper 94...\n"
     ]
    },
    {
     "name": "stderr",
     "output_type": "stream",
     "text": [
      " 80%|███████▉  | 94/118 [06:58<02:02,  5.12s/it]"
     ]
    },
    {
     "name": "stdout",
     "output_type": "stream",
     "text": [
      "Found 47 references in paper 94\n",
      "\n",
      "Extracting references from paper 95...\n"
     ]
    },
    {
     "name": "stderr",
     "output_type": "stream",
     "text": [
      " 81%|████████  | 95/118 [07:01<01:42,  4.47s/it]"
     ]
    },
    {
     "name": "stdout",
     "output_type": "stream",
     "text": [
      "Found 41 references in paper 95\n",
      "\n",
      "Extracting references from paper 96...\n"
     ]
    },
    {
     "name": "stderr",
     "output_type": "stream",
     "text": [
      " 81%|████████▏ | 96/118 [07:03<01:23,  3.79s/it]"
     ]
    },
    {
     "name": "stdout",
     "output_type": "stream",
     "text": [
      "Found 3 references in paper 96\n",
      "\n",
      "Extracting references from paper 97...\n"
     ]
    },
    {
     "name": "stderr",
     "output_type": "stream",
     "text": [
      " 82%|████████▏ | 97/118 [07:09<01:28,  4.21s/it]"
     ]
    },
    {
     "name": "stdout",
     "output_type": "stream",
     "text": [
      "Found 124 references in paper 97\n",
      "\n",
      "Extracting references from paper 98...\n"
     ]
    },
    {
     "name": "stderr",
     "output_type": "stream",
     "text": [
      " 83%|████████▎ | 98/118 [07:11<01:15,  3.79s/it]"
     ]
    },
    {
     "name": "stdout",
     "output_type": "stream",
     "text": [
      "Found 34 references in paper 98\n",
      "\n",
      "Extracting references from paper 99...\n"
     ]
    },
    {
     "name": "stderr",
     "output_type": "stream",
     "text": [
      " 84%|████████▍ | 99/118 [07:15<01:08,  3.61s/it]"
     ]
    },
    {
     "name": "stdout",
     "output_type": "stream",
     "text": [
      "Found 37 references in paper 99\n",
      "\n",
      "Extracting references from paper 100...\n"
     ]
    },
    {
     "name": "stderr",
     "output_type": "stream",
     "text": [
      " 85%|████████▍ | 100/118 [07:20<01:11,  3.99s/it]"
     ]
    },
    {
     "name": "stdout",
     "output_type": "stream",
     "text": [
      "Found 62 references in paper 100\n",
      "\n",
      "Extracting references from paper 101...\n"
     ]
    },
    {
     "name": "stderr",
     "output_type": "stream",
     "text": [
      " 86%|████████▌ | 101/118 [07:22<01:01,  3.61s/it]"
     ]
    },
    {
     "name": "stdout",
     "output_type": "stream",
     "text": [
      "Found 29 references in paper 101\n",
      "\n",
      "Extracting references from paper 102...\n"
     ]
    },
    {
     "name": "stderr",
     "output_type": "stream",
     "text": [
      " 86%|████████▋ | 102/118 [07:25<00:54,  3.40s/it]"
     ]
    },
    {
     "name": "stdout",
     "output_type": "stream",
     "text": [
      "Found 50 references in paper 102\n",
      "\n",
      "Extracting references from paper 103...\n"
     ]
    },
    {
     "name": "stderr",
     "output_type": "stream",
     "text": [
      " 87%|████████▋ | 103/118 [07:28<00:50,  3.34s/it]"
     ]
    },
    {
     "name": "stdout",
     "output_type": "stream",
     "text": [
      "Found 56 references in paper 103\n",
      "\n",
      "Extracting references from paper 104...\n"
     ]
    },
    {
     "name": "stderr",
     "output_type": "stream",
     "text": [
      " 88%|████████▊ | 104/118 [07:31<00:43,  3.11s/it]"
     ]
    },
    {
     "name": "stdout",
     "output_type": "stream",
     "text": [
      "Found 26 references in paper 104\n",
      "\n",
      "Extracting references from paper 105...\n"
     ]
    },
    {
     "name": "stderr",
     "output_type": "stream",
     "text": [
      " 89%|████████▉ | 105/118 [07:35<00:45,  3.50s/it]"
     ]
    },
    {
     "name": "stdout",
     "output_type": "stream",
     "text": [
      "Found 46 references in paper 105\n",
      "\n",
      "Extracting references from paper 106...\n"
     ]
    },
    {
     "name": "stderr",
     "output_type": "stream",
     "text": [
      " 90%|████████▉ | 106/118 [07:40<00:45,  3.78s/it]"
     ]
    },
    {
     "name": "stdout",
     "output_type": "stream",
     "text": [
      "Found 49 references in paper 106\n",
      "\n",
      "Extracting references from paper 107...\n"
     ]
    },
    {
     "name": "stderr",
     "output_type": "stream",
     "text": [
      " 91%|█████████ | 107/118 [07:42<00:37,  3.42s/it]"
     ]
    },
    {
     "name": "stdout",
     "output_type": "stream",
     "text": [
      "Found 22 references in paper 107\n",
      "\n",
      "Extracting references from paper 108...\n"
     ]
    },
    {
     "name": "stderr",
     "output_type": "stream",
     "text": [
      " 92%|█████████▏| 108/118 [07:48<00:40,  4.05s/it]"
     ]
    },
    {
     "name": "stdout",
     "output_type": "stream",
     "text": [
      "Found 110 references in paper 108\n",
      "\n",
      "Extracting references from paper 109...\n"
     ]
    },
    {
     "name": "stderr",
     "output_type": "stream",
     "text": [
      " 92%|█████████▏| 109/118 [07:53<00:40,  4.45s/it]"
     ]
    },
    {
     "name": "stdout",
     "output_type": "stream",
     "text": [
      "Found 67 references in paper 109\n",
      "\n",
      "Extracting references from paper 110...\n"
     ]
    },
    {
     "name": "stderr",
     "output_type": "stream",
     "text": [
      " 93%|█████████▎| 110/118 [07:59<00:39,  4.97s/it]"
     ]
    },
    {
     "name": "stdout",
     "output_type": "stream",
     "text": [
      "Found 80 references in paper 110\n",
      "\n",
      "Extracting references from paper 111...\n"
     ]
    },
    {
     "name": "stderr",
     "output_type": "stream",
     "text": [
      " 94%|█████████▍| 111/118 [08:04<00:33,  4.77s/it]"
     ]
    },
    {
     "name": "stdout",
     "output_type": "stream",
     "text": [
      "Found 68 references in paper 111\n",
      "\n",
      "Extracting references from paper 112...\n"
     ]
    },
    {
     "name": "stderr",
     "output_type": "stream",
     "text": [
      " 95%|█████████▍| 112/118 [08:07<00:26,  4.40s/it]"
     ]
    },
    {
     "name": "stdout",
     "output_type": "stream",
     "text": [
      "Found 58 references in paper 112\n",
      "\n",
      "Extracting references from paper 113...\n"
     ]
    },
    {
     "name": "stderr",
     "output_type": "stream",
     "text": [
      " 96%|█████████▌| 113/118 [08:11<00:20,  4.18s/it]"
     ]
    },
    {
     "name": "stdout",
     "output_type": "stream",
     "text": [
      "Found 60 references in paper 113\n",
      "\n",
      "Extracting references from paper 114...\n"
     ]
    },
    {
     "name": "stderr",
     "output_type": "stream",
     "text": [
      " 97%|█████████▋| 114/118 [08:14<00:15,  3.92s/it]"
     ]
    },
    {
     "name": "stdout",
     "output_type": "stream",
     "text": [
      "Found 70 references in paper 114\n",
      "\n",
      "Extracting references from paper 115...\n"
     ]
    },
    {
     "name": "stderr",
     "output_type": "stream",
     "text": [
      " 97%|█████████▋| 115/118 [08:17<00:10,  3.61s/it]"
     ]
    },
    {
     "name": "stdout",
     "output_type": "stream",
     "text": [
      "Found 30 references in paper 115\n",
      "\n",
      "Extracting references from paper 116...\n"
     ]
    },
    {
     "name": "stderr",
     "output_type": "stream",
     "text": [
      " 98%|█████████▊| 116/118 [08:21<00:07,  3.68s/it]"
     ]
    },
    {
     "name": "stdout",
     "output_type": "stream",
     "text": [
      "Found 35 references in paper 116\n",
      "\n",
      "Extracting references from paper 117...\n"
     ]
    },
    {
     "name": "stderr",
     "output_type": "stream",
     "text": [
      " 99%|█████████▉| 117/118 [08:26<00:04,  4.20s/it]"
     ]
    },
    {
     "name": "stdout",
     "output_type": "stream",
     "text": [
      "Found 95 references in paper 117\n",
      "\n",
      "Extracting references from paper 118...\n"
     ]
    },
    {
     "name": "stderr",
     "output_type": "stream",
     "text": [
      "100%|██████████| 118/118 [08:29<00:00,  4.32s/it]"
     ]
    },
    {
     "name": "stdout",
     "output_type": "stream",
     "text": [
      "Found 34 references in paper 118\n",
      "\n",
      "Matching references to corpus papers...\n"
     ]
    },
    {
     "name": "stderr",
     "output_type": "stream",
     "text": [
      "\n"
     ]
    },
    {
     "name": "stdout",
     "output_type": "stream",
     "text": [
      "✓ Paper 4 cites paper 5 (score: 1.00)\n",
      "✓ Paper 5 cites paper 3 (score: 0.88)\n",
      "✓ Paper 5 cites paper 2 (score: 0.94)\n",
      "✓ Paper 5 cites paper 4 (score: 1.00)\n",
      "? Uncertain match: Paper 9 possibly cites paper 7 (score: 0.58)\n",
      "✓ Paper 11 cites paper 5 (score: 1.00)\n",
      "✓ Paper 11 cites paper 2 (score: 1.00)\n",
      "✓ Paper 11 cites paper 6 (score: 1.00)\n",
      "✓ Paper 11 cites paper 4 (score: 1.00)\n",
      "✓ Paper 11 cites paper 10 (score: 1.00)\n",
      "✓ Paper 13 cites paper 6 (score: 1.00)\n",
      "✓ Paper 14 cites paper 8 (score: 1.00)\n",
      "✓ Paper 16 cites paper 2 (score: 1.00)\n",
      "✓ Paper 16 cites paper 5 (score: 1.00)\n",
      "✓ Paper 16 cites paper 6 (score: 1.00)\n",
      "✓ Paper 16 cites paper 11 (score: 1.00)\n",
      "? Uncertain match: Paper 16 possibly cites paper 11 (score: 0.60)\n",
      "✓ Paper 16 cites paper 12 (score: 1.00)\n",
      "✓ Paper 16 cites paper 13 (score: 0.86)\n",
      "✓ Paper 17 cites paper 8 (score: 1.00)\n",
      "✓ Paper 17 cites paper 5 (score: 1.00)\n",
      "✓ Paper 17 cites paper 3 (score: 0.86)\n",
      "? Uncertain match: Paper 17 possibly cites paper 53 (score: 0.57)\n",
      "? Uncertain match: Paper 18 possibly cites paper 35 (score: 0.52)\n",
      "✓ Paper 18 cites paper 16 (score: 1.00)\n",
      "? Uncertain match: Paper 19 possibly cites paper 18 (score: 0.67)\n",
      "? Uncertain match: Paper 19 possibly cites paper 34 (score: 0.50)\n",
      "✓ Paper 19 cites paper 18 (score: 1.00)\n",
      "? Uncertain match: Paper 20 possibly cites paper 22 (score: 0.56)\n",
      "? Uncertain match: Paper 22 possibly cites paper 21 (score: 0.65)\n",
      "✓ Paper 23 cites paper 17 (score: 1.00)\n",
      "? Uncertain match: Paper 23 possibly cites paper 93 (score: 0.50)\n",
      "? Uncertain match: Paper 23 possibly cites paper 37 (score: 0.50)\n",
      "? Uncertain match: Paper 23 possibly cites paper 12 (score: 0.53)\n",
      "? Uncertain match: Paper 23 possibly cites paper 8 (score: 0.67)\n",
      "? Uncertain match: Paper 24 possibly cites paper 9 (score: 0.50)\n",
      "? Uncertain match: Paper 24 possibly cites paper 97 (score: 0.67)\n",
      "? Uncertain match: Paper 24 possibly cites paper 21 (score: 0.67)\n",
      "✓ Paper 24 cites paper 18 (score: 1.00)\n",
      "? Uncertain match: Paper 24 possibly cites paper 7 (score: 0.58)\n",
      "✓ Paper 24 cites paper 9 (score: 0.88)\n",
      "? Uncertain match: Paper 24 possibly cites paper 7 (score: 0.53)\n",
      "✓ Paper 25 cites paper 5 (score: 1.00)\n",
      "✓ Paper 25 cites paper 17 (score: 1.00)\n",
      "? Uncertain match: Paper 25 possibly cites paper 11 (score: 0.53)\n",
      "✓ Paper 25 cites paper 3 (score: 0.86)\n",
      "✓ Paper 26 cites paper 16 (score: 0.88)\n",
      "✓ Paper 27 cites paper 24 (score: 1.00)\n",
      "✓ Paper 27 cites paper 20 (score: 0.88)\n",
      "✓ Paper 27 cites paper 24 (score: 1.00)\n",
      "? Uncertain match: Paper 27 possibly cites paper 22 (score: 0.53)\n",
      "? Uncertain match: Paper 27 possibly cites paper 21 (score: 0.51)\n",
      "✓ Paper 27 cites paper 16 (score: 0.88)\n",
      "✓ Paper 27 cites paper 26 (score: 1.00)\n",
      "✓ Paper 27 cites paper 24 (score: 1.00)\n",
      "✓ Paper 27 cites paper 24 (score: 1.00)\n",
      "✓ Paper 27 cites paper 24 (score: 1.00)\n",
      "✓ Paper 27 cites paper 13 (score: 0.86)\n",
      "✓ Paper 27 cites paper 24 (score: 1.00)\n",
      "✓ Paper 27 cites paper 24 (score: 1.00)\n",
      "✓ Paper 27 cites paper 24 (score: 1.00)\n",
      "✓ Paper 28 cites paper 24 (score: 1.00)\n",
      "✓ Paper 28 cites paper 19 (score: 1.00)\n",
      "? Uncertain match: Paper 28 possibly cites paper 19 (score: 0.55)\n",
      "? Uncertain match: Paper 28 possibly cites paper 19 (score: 0.56)\n",
      "✓ Paper 28 cites paper 24 (score: 1.00)\n",
      "✓ Paper 28 cites paper 25 (score: 1.00)\n",
      "✓ Paper 28 cites paper 17 (score: 1.00)\n",
      "✓ Paper 28 cites paper 6 (score: 1.00)\n",
      "✓ Paper 28 cites paper 16 (score: 1.00)\n",
      "✓ Paper 28 cites paper 12 (score: 1.00)\n",
      "✓ Paper 30 cites paper 25 (score: 1.00)\n",
      "? Uncertain match: Paper 30 possibly cites paper 79 (score: 0.50)\n",
      "✓ Paper 30 cites paper 6 (score: 1.00)\n",
      "✓ Paper 30 cites paper 12 (score: 1.00)\n",
      "✓ Paper 30 cites paper 12 (score: 1.00)\n",
      "✓ Paper 30 cites paper 3 (score: 0.88)\n",
      "✓ Paper 30 cites paper 23 (score: 1.00)\n",
      "✓ Paper 31 cites paper 18 (score: 1.00)\n",
      "✓ Paper 31 cites paper 24 (score: 1.00)\n",
      "✓ Paper 31 cites paper 19 (score: 1.00)\n",
      "✓ Paper 32 cites paper 6 (score: 1.00)\n",
      "✓ Paper 32 cites paper 16 (score: 0.88)\n",
      "✓ Paper 32 cites paper 27 (score: 0.88)\n",
      "✓ Paper 32 cites paper 27 (score: 1.00)\n",
      "✓ Paper 32 cites paper 18 (score: 1.00)\n",
      "? Uncertain match: Paper 34 possibly cites paper 22 (score: 0.65)\n",
      "✓ Paper 35 cites paper 19 (score: 1.00)\n",
      "✓ Paper 35 cites paper 32 (score: 0.88)\n",
      "✓ Paper 35 cites paper 8 (score: 1.00)\n",
      "? Uncertain match: Paper 36 possibly cites paper 22 (score: 0.56)\n",
      "✓ Paper 36 cites paper 16 (score: 0.88)\n",
      "✓ Paper 37 cites paper 30 (score: 1.00)\n",
      "? Uncertain match: Paper 37 possibly cites paper 79 (score: 0.50)\n",
      "✓ Paper 37 cites paper 17 (score: 1.00)\n",
      "✓ Paper 37 cites paper 3 (score: 0.88)\n",
      "✓ Paper 37 cites paper 3 (score: 1.00)\n",
      "✓ Paper 38 cites paper 34 (score: 1.00)\n",
      "✓ Paper 38 cites paper 30 (score: 1.00)\n",
      "✓ Paper 38 cites paper 17 (score: 1.00)\n",
      "✓ Paper 38 cites paper 34 (score: 1.00)\n",
      "? Uncertain match: Paper 38 possibly cites paper 30 (score: 0.67)\n",
      "? Uncertain match: Paper 38 possibly cites paper 60 (score: 0.50)\n",
      "✓ Paper 39 cites paper 27 (score: 0.88)\n",
      "✓ Paper 40 cites paper 24 (score: 1.00)\n",
      "✓ Paper 40 cites paper 28 (score: 1.00)\n",
      "✓ Paper 40 cites paper 28 (score: 1.00)\n",
      "✓ Paper 40 cites paper 28 (score: 1.00)\n",
      "✓ Paper 40 cites paper 27 (score: 0.88)\n",
      "✓ Paper 40 cites paper 27 (score: 1.00)\n",
      "✓ Paper 40 cites paper 28 (score: 1.00)\n",
      "✓ Paper 40 cites paper 18 (score: 1.00)\n",
      "✓ Paper 40 cites paper 9 (score: 0.88)\n",
      "✓ Paper 42 cites paper 19 (score: 1.00)\n",
      "✓ Paper 42 cites paper 16 (score: 1.00)\n",
      "✓ Paper 42 cites paper 32 (score: 0.88)\n",
      "✓ Paper 42 cites paper 6 (score: 1.00)\n",
      "✓ Paper 42 cites paper 41 (score: 0.88)\n",
      "✓ Paper 43 cites paper 42 (score: 1.00)\n",
      "✓ Paper 43 cites paper 36 (score: 0.88)\n",
      "? Uncertain match: Paper 43 possibly cites paper 39 (score: 0.54)\n",
      "✓ Paper 43 cites paper 39 (score: 1.00)\n",
      "✓ Paper 44 cites paper 42 (score: 1.00)\n",
      "✓ Paper 44 cites paper 24 (score: 1.00)\n",
      "✓ Paper 44 cites paper 19 (score: 1.00)\n",
      "✓ Paper 44 cites paper 17 (score: 1.00)\n",
      "? Uncertain match: Paper 44 possibly cites paper 39 (score: 0.54)\n",
      "✓ Paper 44 cites paper 28 (score: 1.00)\n",
      "✓ Paper 45 cites paper 29 (score: 1.00)\n",
      "? Uncertain match: Paper 45 possibly cites paper 5 (score: 0.52)\n",
      "✓ Paper 45 cites paper 19 (score: 1.00)\n",
      "? Uncertain match: Paper 45 possibly cites paper 30 (score: 0.56)\n",
      "? Uncertain match: Paper 45 possibly cites paper 79 (score: 0.50)\n",
      "✓ Paper 45 cites paper 37 (score: 0.75)\n",
      "✓ Paper 46 cites paper 68 (score: 0.88)\n",
      "? Uncertain match: Paper 46 possibly cites paper 39 (score: 0.54)\n",
      "✓ Paper 47 cites paper 1 (score: 0.88)\n",
      "? Uncertain match: Paper 48 possibly cites paper 39 (score: 0.54)\n",
      "? Uncertain match: Paper 48 possibly cites paper 43 (score: 0.62)\n",
      "✓ Paper 49 cites paper 37 (score: 0.88)\n",
      "? Uncertain match: Paper 49 possibly cites paper 30 (score: 0.56)\n",
      "? Uncertain match: Paper 49 possibly cites paper 79 (score: 0.50)\n",
      "✓ Paper 50 cites paper 24 (score: 1.00)\n",
      "✓ Paper 50 cites paper 15 (score: 1.00)\n",
      "? Uncertain match: Paper 50 possibly cites paper 9 (score: 0.50)\n",
      "✓ Paper 50 cites paper 17 (score: 1.00)\n",
      "? Uncertain match: Paper 50 possibly cites paper 7 (score: 0.58)\n",
      "✓ Paper 50 cites paper 9 (score: 0.88)\n",
      "✓ Paper 51 cites paper 28 (score: 1.00)\n",
      "✓ Paper 51 cites paper 42 (score: 1.00)\n",
      "✓ Paper 51 cites paper 42 (score: 1.00)\n",
      "✓ Paper 52 cites paper 42 (score: 1.00)\n",
      "✓ Paper 52 cites paper 42 (score: 1.00)\n",
      "✓ Paper 52 cites paper 42 (score: 1.00)\n",
      "✓ Paper 52 cites paper 42 (score: 1.00)\n",
      "✓ Paper 52 cites paper 42 (score: 1.00)\n",
      "✓ Paper 52 cites paper 42 (score: 1.00)\n",
      "✓ Paper 52 cites paper 42 (score: 1.00)\n",
      "✓ Paper 52 cites paper 44 (score: 1.00)\n",
      "✓ Paper 52 cites paper 42 (score: 1.00)\n",
      "✓ Paper 52 cites paper 42 (score: 1.00)\n",
      "✓ Paper 52 cites paper 42 (score: 1.00)\n",
      "✓ Paper 52 cites paper 42 (score: 1.00)\n",
      "✓ Paper 52 cites paper 42 (score: 1.00)\n",
      "✓ Paper 52 cites paper 42 (score: 1.00)\n",
      "✓ Paper 52 cites paper 39 (score: 1.00)\n",
      "? Uncertain match: Paper 52 possibly cites paper 33 (score: 0.67)\n",
      "? Uncertain match: Paper 52 possibly cites paper 26 (score: 0.50)\n",
      "✓ Paper 52 cites paper 13 (score: 0.86)\n",
      "? Uncertain match: Paper 52 possibly cites paper 41 (score: 0.52)\n",
      "? Uncertain match: Paper 52 possibly cites paper 33 (score: 0.55)\n",
      "✓ Paper 53 cites paper 28 (score: 1.00)\n",
      "✓ Paper 53 cites paper 24 (score: 1.00)\n",
      "✓ Paper 53 cites paper 30 (score: 1.00)\n",
      "✓ Paper 53 cites paper 38 (score: 1.00)\n",
      "✓ Paper 53 cites paper 17 (score: 1.00)\n",
      "✓ Paper 53 cites paper 32 (score: 1.00)\n",
      "✓ Paper 53 cites paper 3 (score: 1.00)\n",
      "✓ Paper 54 cites paper 68 (score: 0.88)\n",
      "✓ Paper 54 cites paper 44 (score: 1.00)\n",
      "? Uncertain match: Paper 54 possibly cites paper 96 (score: 0.50)\n",
      "? Uncertain match: Paper 54 possibly cites paper 32 (score: 0.52)\n",
      "✓ Paper 54 cites paper 44 (score: 1.00)\n",
      "✓ Paper 54 cites paper 18 (score: 1.00)\n",
      "? Uncertain match: Paper 55 possibly cites paper 22 (score: 0.56)\n",
      "✓ Paper 56 cites paper 44 (score: 1.00)\n",
      "✓ Paper 56 cites paper 28 (score: 1.00)\n",
      "✓ Paper 56 cites paper 24 (score: 1.00)\n",
      "? Uncertain match: Paper 56 possibly cites paper 6 (score: 0.67)\n",
      "✓ Paper 56 cites paper 34 (score: 1.00)\n",
      "✓ Paper 57 cites paper 42 (score: 1.00)\n",
      "✓ Paper 57 cites paper 42 (score: 1.00)\n",
      "✓ Paper 57 cites paper 42 (score: 1.00)\n",
      "✓ Paper 57 cites paper 42 (score: 1.00)\n",
      "✓ Paper 57 cites paper 42 (score: 1.00)\n",
      "✓ Paper 57 cites paper 24 (score: 1.00)\n",
      "✓ Paper 57 cites paper 30 (score: 1.00)\n",
      "✓ Paper 57 cites paper 3 (score: 0.88)\n",
      "? Uncertain match: Paper 57 possibly cites paper 8 (score: 0.63)\n",
      "? Uncertain match: Paper 57 possibly cites paper 60 (score: 0.50)\n",
      "✓ Paper 57 cites paper 51 (score: 1.00)\n",
      "✓ Paper 58 cites paper 42 (score: 1.00)\n",
      "✓ Paper 58 cites paper 42 (score: 1.00)\n",
      "✓ Paper 58 cites paper 42 (score: 1.00)\n",
      "✓ Paper 58 cites paper 42 (score: 1.00)\n",
      "✓ Paper 58 cites paper 44 (score: 1.00)\n",
      "✓ Paper 58 cites paper 44 (score: 1.00)\n",
      "✓ Paper 58 cites paper 44 (score: 1.00)\n",
      "✓ Paper 58 cites paper 27 (score: 0.88)\n",
      "? Uncertain match: Paper 58 possibly cites paper 37 (score: 0.53)\n",
      "? Uncertain match: Paper 58 possibly cites paper 56 (score: 0.51)\n",
      "✓ Paper 58 cites paper 37 (score: 1.00)\n",
      "✓ Paper 59 cites paper 17 (score: 1.00)\n",
      "✓ Paper 59 cites paper 17 (score: 1.00)\n",
      "✓ Paper 59 cites paper 34 (score: 1.00)\n",
      "✓ Paper 59 cites paper 34 (score: 1.00)\n",
      "✓ Paper 59 cites paper 42 (score: 1.00)\n",
      "✓ Paper 59 cites paper 42 (score: 1.00)\n",
      "✓ Paper 59 cites paper 42 (score: 1.00)\n",
      "✓ Paper 59 cites paper 28 (score: 1.00)\n",
      "✓ Paper 59 cites paper 42 (score: 1.00)\n",
      "✓ Paper 59 cites paper 42 (score: 1.00)\n",
      "✓ Paper 59 cites paper 44 (score: 1.00)\n",
      "✓ Paper 59 cites paper 44 (score: 1.00)\n",
      "✓ Paper 59 cites paper 44 (score: 1.00)\n",
      "✓ Paper 59 cites paper 44 (score: 1.00)\n",
      "✓ Paper 59 cites paper 44 (score: 1.00)\n",
      "✓ Paper 59 cites paper 60 (score: 1.00)\n",
      "? Uncertain match: Paper 59 possibly cites paper 40 (score: 0.67)\n",
      "? Uncertain match: Paper 59 possibly cites paper 53 (score: 0.67)\n",
      "✓ Paper 59 cites paper 27 (score: 0.88)\n",
      "? Uncertain match: Paper 59 possibly cites paper 44 (score: 0.50)\n",
      "✓ Paper 60 cites paper 43 (score: 0.88)\n",
      "? Uncertain match: Paper 60 possibly cites paper 39 (score: 0.54)\n",
      "✓ Paper 60 cites paper 27 (score: 0.88)\n",
      "? Uncertain match: Paper 60 possibly cites paper 56 (score: 0.52)\n",
      "? Uncertain match: Paper 61 possibly cites paper 51 (score: 0.67)\n",
      "✓ Paper 61 cites paper 42 (score: 1.00)\n",
      "? Uncertain match: Paper 61 possibly cites paper 40 (score: 0.67)\n",
      "✓ Paper 61 cites paper 54 (score: 1.00)\n",
      "✓ Paper 61 cites paper 43 (score: 0.88)\n",
      "✓ Paper 61 cites paper 64 (score: 1.00)\n",
      "✓ Paper 61 cites paper 68 (score: 0.88)\n",
      "✓ Paper 61 cites paper 44 (score: 0.75)\n",
      "✓ Paper 61 cites paper 63 (score: 0.88)\n",
      "? Uncertain match: Paper 61 possibly cites paper 39 (score: 0.54)\n",
      "? Uncertain match: Paper 61 possibly cites paper 39 (score: 0.60)\n",
      "✓ Paper 61 cites paper 46 (score: 0.88)\n",
      "✓ Paper 61 cites paper 32 (score: 0.88)\n",
      "✓ Paper 61 cites paper 39 (score: 1.00)\n",
      "? Uncertain match: Paper 61 possibly cites paper 39 (score: 0.60)\n",
      "✓ Paper 61 cites paper 59 (score: 1.00)\n",
      "? Uncertain match: Paper 61 possibly cites paper 44 (score: 0.50)\n",
      "? Uncertain match: Paper 61 possibly cites paper 57 (score: 0.53)\n",
      "✓ Paper 62 cites paper 44 (score: 1.00)\n",
      "✓ Paper 62 cites paper 39 (score: 1.00)\n",
      "? Uncertain match: Paper 63 possibly cites paper 39 (score: 0.54)\n",
      "✓ Paper 63 cites paper 39 (score: 1.00)\n",
      "? Uncertain match: Paper 63 possibly cites paper 44 (score: 0.50)\n",
      "✓ Paper 63 cites paper 43 (score: 0.88)\n",
      "? Uncertain match: Paper 63 possibly cites paper 44 (score: 0.50)\n",
      "✓ Paper 63 cites paper 48 (score: 0.75)\n",
      "✓ Paper 64 cites paper 42 (score: 1.00)\n",
      "? Uncertain match: Paper 64 possibly cites paper 27 (score: 0.67)\n",
      "✓ Paper 64 cites paper 30 (score: 1.00)\n",
      "? Uncertain match: Paper 64 possibly cites paper 33 (score: 0.67)\n",
      "✓ Paper 64 cites paper 3 (score: 0.88)\n",
      "? Uncertain match: Paper 64 possibly cites paper 57 (score: 0.53)\n",
      "? Uncertain match: Paper 64 possibly cites paper 19 (score: 0.52)\n",
      "✓ Paper 65 cites paper 44 (score: 1.00)\n",
      "✓ Paper 65 cites paper 44 (score: 1.00)\n",
      "? Uncertain match: Paper 65 possibly cites paper 53 (score: 0.67)\n",
      "✓ Paper 65 cites paper 57 (score: 1.00)\n",
      "✓ Paper 65 cites paper 17 (score: 1.00)\n",
      "? Uncertain match: Paper 65 possibly cites paper 78 (score: 0.67)\n",
      "✓ Paper 65 cites paper 59 (score: 1.00)\n",
      "✓ Paper 65 cites paper 40 (score: 1.00)\n",
      "? Uncertain match: Paper 65 possibly cites paper 52 (score: 0.67)\n",
      "✓ Paper 65 cites paper 59 (score: 1.00)\n",
      "✓ Paper 66 cites paper 40 (score: 1.00)\n",
      "✓ Paper 66 cites paper 56 (score: 1.00)\n",
      "✓ Paper 67 cites paper 43 (score: 1.00)\n",
      "✓ Paper 67 cites paper 63 (score: 1.00)\n",
      "? Uncertain match: Paper 67 possibly cites paper 39 (score: 0.54)\n",
      "? Uncertain match: Paper 67 possibly cites paper 39 (score: 0.60)\n",
      "✓ Paper 67 cites paper 46 (score: 1.00)\n",
      "? Uncertain match: Paper 67 possibly cites paper 39 (score: 0.60)\n",
      "? Uncertain match: Paper 67 possibly cites paper 44 (score: 0.50)\n",
      "✓ Paper 67 cites paper 57 (score: 1.00)\n",
      "✓ Paper 68 cites paper 43 (score: 0.88)\n",
      "✓ Paper 68 cites paper 19 (score: 1.00)\n",
      "? Uncertain match: Paper 68 possibly cites paper 39 (score: 0.62)\n",
      "? Uncertain match: Paper 68 possibly cites paper 57 (score: 0.51)\n",
      "? Uncertain match: Paper 68 possibly cites paper 60 (score: 0.67)\n",
      "✓ Paper 68 cites paper 59 (score: 1.00)\n",
      "✓ Paper 68 cites paper 59 (score: 1.00)\n",
      "✓ Paper 68 cites paper 59 (score: 1.00)\n",
      "? Uncertain match: Paper 68 possibly cites paper 57 (score: 0.67)\n",
      "? Uncertain match: Paper 68 possibly cites paper 37 (score: 0.53)\n",
      "✓ Paper 68 cites paper 59 (score: 1.00)\n",
      "✓ Paper 68 cites paper 32 (score: 0.88)\n",
      "? Uncertain match: Paper 68 possibly cites paper 21 (score: 0.59)\n",
      "? Uncertain match: Paper 68 possibly cites paper 33 (score: 0.55)\n",
      "? Uncertain match: Paper 68 possibly cites paper 30 (score: 0.56)\n",
      "✓ Paper 69 cites paper 59 (score: 1.00)\n",
      "✓ Paper 69 cites paper 29 (score: 0.88)\n",
      "✓ Paper 69 cites paper 37 (score: 0.88)\n",
      "✓ Paper 69 cites paper 45 (score: 0.88)\n",
      "✓ Paper 69 cites paper 47 (score: 0.88)\n",
      "✓ Paper 69 cites paper 49 (score: 1.00)\n",
      "? Uncertain match: Paper 70 possibly cites paper 50 (score: 0.67)\n",
      "✓ Paper 70 cites paper 64 (score: 1.00)\n",
      "✓ Paper 71 cites paper 42 (score: 1.00)\n",
      "✓ Paper 71 cites paper 24 (score: 1.00)\n",
      "✓ Paper 71 cites paper 19 (score: 1.00)\n",
      "✓ Paper 71 cites paper 5 (score: 1.00)\n",
      "? Uncertain match: Paper 71 possibly cites paper 30 (score: 0.56)\n",
      "✓ Paper 71 cites paper 11 (score: 1.00)\n",
      "? Uncertain match: Paper 71 possibly cites paper 32 (score: 0.52)\n",
      "✓ Paper 71 cites paper 3 (score: 0.88)\n",
      "? Uncertain match: Paper 71 possibly cites paper 104 (score: 0.50)\n",
      "✓ Paper 71 cites paper 18 (score: 1.00)\n",
      "✓ Paper 71 cites paper 50 (score: 1.00)\n",
      "? Uncertain match: Paper 71 possibly cites paper 57 (score: 0.53)\n",
      "✓ Paper 72 cites paper 44 (score: 1.00)\n",
      "✓ Paper 72 cites paper 24 (score: 1.00)\n",
      "✓ Paper 72 cites paper 54 (score: 1.00)\n",
      "? Uncertain match: Paper 72 possibly cites paper 39 (score: 0.60)\n",
      "✓ Paper 72 cites paper 46 (score: 0.88)\n",
      "? Uncertain match: Paper 72 possibly cites paper 56 (score: 0.56)\n",
      "✓ Paper 72 cites paper 7 (score: 1.00)\n",
      "✓ Paper 72 cites paper 9 (score: 0.88)\n",
      "✓ Paper 72 cites paper 41 (score: 0.88)\n",
      "? Uncertain match: Paper 72 possibly cites paper 7 (score: 0.53)\n",
      "✓ Paper 73 cites paper 7 (score: 1.00)\n",
      "✓ Paper 73 cites paper 17 (score: 1.00)\n",
      "✓ Paper 73 cites paper 19 (score: 1.00)\n",
      "✓ Paper 73 cites paper 24 (score: 1.00)\n",
      "✓ Paper 73 cites paper 34 (score: 1.00)\n",
      "✓ Paper 73 cites paper 44 (score: 1.00)\n",
      "✓ Paper 73 cites paper 42 (score: 1.00)\n",
      "✓ Paper 73 cites paper 28 (score: 1.00)\n",
      "✓ Paper 73 cites paper 19 (score: 1.00)\n",
      "✓ Paper 73 cites paper 54 (score: 1.00)\n",
      "? Uncertain match: Paper 73 possibly cites paper 39 (score: 0.54)\n",
      "✓ Paper 73 cites paper 46 (score: 1.00)\n",
      "✓ Paper 73 cites paper 32 (score: 1.00)\n",
      "✓ Paper 73 cites paper 39 (score: 0.72)\n",
      "? Uncertain match: Paper 73 possibly cites paper 44 (score: 0.50)\n",
      "✓ Paper 73 cites paper 41 (score: 1.00)\n",
      "✓ Paper 73 cites paper 57 (score: 1.00)\n",
      "✓ Paper 74 cites paper 59 (score: 1.00)\n",
      "✓ Paper 74 cites paper 59 (score: 1.00)\n",
      "✓ Paper 74 cites paper 59 (score: 1.00)\n",
      "✓ Paper 74 cites paper 42 (score: 1.00)\n",
      "✓ Paper 74 cites paper 44 (score: 1.00)\n",
      "✓ Paper 74 cites paper 32 (score: 0.88)\n",
      "? Uncertain match: Paper 74 possibly cites paper 33 (score: 0.67)\n",
      "✓ Paper 74 cites paper 18 (score: 1.00)\n",
      "? Uncertain match: Paper 75 possibly cites paper 39 (score: 0.54)\n",
      "? Uncertain match: Paper 75 possibly cites paper 26 (score: 0.56)\n",
      "✓ Paper 75 cites paper 39 (score: 1.00)\n",
      "✓ Paper 75 cites paper 62 (score: 0.88)\n",
      "? Uncertain match: Paper 75 possibly cites paper 57 (score: 0.53)\n",
      "? Uncertain match: Paper 75 possibly cites paper 56 (score: 0.56)\n",
      "✓ Paper 76 cites paper 44 (score: 1.00)\n",
      "✓ Paper 76 cites paper 77 (score: 1.00)\n",
      "? Uncertain match: Paper 77 possibly cites paper 45 (score: 0.67)\n",
      "✓ Paper 77 cites paper 44 (score: 1.00)\n",
      "? Uncertain match: Paper 77 possibly cites paper 26 (score: 0.68)\n",
      "✓ Paper 78 cites paper 42 (score: 1.00)\n",
      "? Uncertain match: Paper 78 possibly cites paper 27 (score: 0.67)\n",
      "✓ Paper 78 cites paper 52 (score: 1.00)\n",
      "✓ Paper 78 cites paper 9 (score: 1.00)\n",
      "? Uncertain match: Paper 78 possibly cites paper 22 (score: 0.67)\n",
      "✓ Paper 78 cites paper 75 (score: 1.00)\n",
      "✓ Paper 78 cites paper 68 (score: 0.88)\n",
      "? Uncertain match: Paper 78 possibly cites paper 54 (score: 0.67)\n",
      "? Uncertain match: Paper 78 possibly cites paper 74 (score: 0.67)\n",
      "✓ Paper 78 cites paper 46 (score: 0.88)\n",
      "? Uncertain match: Paper 78 possibly cites paper 21 (score: 0.67)\n",
      "? Uncertain match: Paper 78 possibly cites paper 73 (score: 0.55)\n",
      "✓ Paper 79 cites paper 19 (score: 1.00)\n",
      "✓ Paper 79 cites paper 32 (score: 0.88)\n",
      "✓ Paper 79 cites paper 41 (score: 1.00)\n",
      "✓ Paper 79 cites paper 42 (score: 1.00)\n",
      "✓ Paper 79 cites paper 16 (score: 0.88)\n",
      "? Uncertain match: Paper 79 possibly cites paper 30 (score: 0.57)\n",
      "✓ Paper 80 cites paper 42 (score: 1.00)\n",
      "✓ Paper 80 cites paper 53 (score: 0.88)\n",
      "✓ Paper 80 cites paper 59 (score: 1.00)\n",
      "? Uncertain match: Paper 80 possibly cites paper 39 (score: 0.60)\n",
      "? Uncertain match: Paper 80 possibly cites paper 66 (score: 0.51)\n",
      "✓ Paper 80 cites paper 30 (score: 1.00)\n",
      "✓ Paper 80 cites paper 67 (score: 0.88)\n",
      "✓ Paper 80 cites paper 32 (score: 0.88)\n",
      "✓ Paper 80 cites paper 3 (score: 1.00)\n",
      "✓ Paper 80 cites paper 18 (score: 1.00)\n",
      "? Uncertain match: Paper 80 possibly cites paper 73 (score: 0.55)\n",
      "✓ Paper 80 cites paper 57 (score: 1.00)\n",
      "? Uncertain match: Paper 80 possibly cites paper 33 (score: 0.55)\n",
      "✓ Paper 80 cites paper 53 (score: 1.00)\n",
      "✓ Paper 81 cites paper 68 (score: 0.88)\n",
      "? Uncertain match: Paper 81 possibly cites paper 73 (score: 0.55)\n",
      "? Uncertain match: Paper 81 possibly cites paper 57 (score: 0.53)\n",
      "? Uncertain match: Paper 81 possibly cites paper 33 (score: 0.55)\n",
      "✓ Paper 82 cites paper 42 (score: 1.00)\n",
      "? Uncertain match: Paper 82 possibly cites paper 59 (score: 0.52)\n",
      "✓ Paper 82 cites paper 61 (score: 0.88)\n",
      "✓ Paper 82 cites paper 68 (score: 0.88)\n",
      "? Uncertain match: Paper 82 possibly cites paper 39 (score: 0.54)\n",
      "✓ Paper 82 cites paper 46 (score: 0.88)\n",
      "? Uncertain match: Paper 82 possibly cites paper 33 (score: 0.67)\n",
      "✓ Paper 82 cites paper 32 (score: 0.88)\n",
      "? Uncertain match: Paper 82 possibly cites paper 56 (score: 0.56)\n",
      "? Uncertain match: Paper 82 possibly cites paper 73 (score: 0.55)\n",
      "? Uncertain match: Paper 82 possibly cites paper 37 (score: 0.52)\n",
      "✓ Paper 83 cites paper 5 (score: 1.00)\n",
      "? Uncertain match: Paper 83 possibly cites paper 26 (score: 0.67)\n",
      "✓ Paper 83 cites paper 53 (score: 1.00)\n",
      "✓ Paper 83 cites paper 30 (score: 1.00)\n",
      "✓ Paper 83 cites paper 38 (score: 1.00)\n",
      "✓ Paper 83 cites paper 17 (score: 1.00)\n",
      "✓ Paper 83 cites paper 60 (score: 1.00)\n",
      "✓ Paper 83 cites paper 3 (score: 1.00)\n",
      "? Uncertain match: Paper 83 possibly cites paper 33 (score: 0.67)\n",
      "✓ Paper 83 cites paper 51 (score: 1.00)\n",
      "✓ Paper 83 cites paper 57 (score: 1.00)\n",
      "? Uncertain match: Paper 83 possibly cites paper 51 (score: 0.67)\n",
      "? Uncertain match: Paper 84 possibly cites paper 53 (score: 0.67)\n",
      "✓ Paper 84 cites paper 75 (score: 1.00)\n",
      "? Uncertain match: Paper 84 possibly cites paper 80 (score: 0.67)\n",
      "? Uncertain match: Paper 84 possibly cites paper 39 (score: 0.53)\n",
      "? Uncertain match: Paper 84 possibly cites paper 45 (score: 0.67)\n",
      "? Uncertain match: Paper 84 possibly cites paper 66 (score: 0.51)\n",
      "? Uncertain match: Paper 84 possibly cites paper 18 (score: 0.51)\n",
      "✓ Paper 84 cites paper 44 (score: 1.00)\n",
      "✓ Paper 84 cites paper 40 (score: 1.00)\n",
      "✓ Paper 84 cites paper 56 (score: 1.00)\n",
      "✓ Paper 84 cites paper 18 (score: 1.00)\n",
      "✓ Paper 84 cites paper 18 (score: 1.00)\n",
      "✓ Paper 85 cites paper 2 (score: 1.00)\n",
      "✓ Paper 85 cites paper 52 (score: 1.00)\n",
      "? Uncertain match: Paper 85 possibly cites paper 51 (score: 0.67)\n",
      "✓ Paper 85 cites paper 51 (score: 1.00)\n",
      "? Uncertain match: Paper 85 possibly cites paper 90 (score: 0.50)\n",
      "? Uncertain match: Paper 85 possibly cites paper 72 (score: 0.67)\n",
      "✓ Paper 85 cites paper 57 (score: 1.00)\n",
      "✓ Paper 85 cites paper 57 (score: 1.00)\n",
      "? Uncertain match: Paper 86 possibly cites paper 59 (score: 0.52)\n",
      "✓ Paper 86 cites paper 52 (score: 1.00)\n",
      "? Uncertain match: Paper 86 possibly cites paper 39 (score: 0.54)\n",
      "? Uncertain match: Paper 86 possibly cites paper 33 (score: 0.56)\n",
      "? Uncertain match: Paper 86 possibly cites paper 21 (score: 0.55)\n",
      "✓ Paper 86 cites paper 39 (score: 1.00)\n",
      "? Uncertain match: Paper 86 possibly cites paper 39 (score: 0.60)\n",
      "? Uncertain match: Paper 86 possibly cites paper 56 (score: 0.56)\n",
      "? Uncertain match: Paper 86 possibly cites paper 50 (score: 0.62)\n",
      "? Uncertain match: Paper 86 possibly cites paper 56 (score: 0.52)\n",
      "✓ Paper 88 cites paper 75 (score: 1.00)\n",
      "✓ Paper 88 cites paper 53 (score: 0.88)\n",
      "✓ Paper 88 cites paper 62 (score: 0.88)\n",
      "✓ Paper 88 cites paper 39 (score: 1.00)\n",
      "? Uncertain match: Paper 88 possibly cites paper 57 (score: 0.53)\n",
      "? Uncertain match: Paper 88 possibly cites paper 56 (score: 0.52)\n",
      "✓ Paper 89 cites paper 60 (score: 0.88)\n",
      "✓ Paper 89 cites paper 61 (score: 1.00)\n",
      "? Uncertain match: Paper 89 possibly cites paper 39 (score: 0.54)\n",
      "? Uncertain match: Paper 89 possibly cites paper 39 (score: 0.55)\n",
      "? Uncertain match: Paper 89 possibly cites paper 39 (score: 0.55)\n",
      "✓ Paper 89 cites paper 67 (score: 0.88)\n",
      "✓ Paper 90 cites paper 60 (score: 0.88)\n",
      "✓ Paper 90 cites paper 42 (score: 1.00)\n",
      "✓ Paper 90 cites paper 60 (score: 1.00)\n",
      "? Uncertain match: Paper 90 possibly cites paper 78 (score: 0.52)\n",
      "✓ Paper 90 cites paper 59 (score: 1.00)\n",
      "✓ Paper 90 cites paper 75 (score: 1.00)\n",
      "? Uncertain match: Paper 90 possibly cites paper 37 (score: 0.52)\n",
      "? Uncertain match: Paper 90 possibly cites paper 80 (score: 0.67)\n",
      "✓ Paper 90 cites paper 24 (score: 1.00)\n",
      "✓ Paper 90 cites paper 88 (score: 1.00)\n",
      "✓ Paper 90 cites paper 82 (score: 0.88)\n",
      "? Uncertain match: Paper 90 possibly cites paper 73 (score: 0.55)\n",
      "✓ Paper 91 cites paper 28 (score: 1.00)\n",
      "? Uncertain match: Paper 91 possibly cites paper 95 (score: 0.52)\n",
      "✓ Paper 91 cites paper 30 (score: 1.00)\n",
      "✓ Paper 91 cites paper 38 (score: 1.00)\n",
      "✓ Paper 91 cites paper 59 (score: 1.00)\n",
      "? Uncertain match: Paper 91 possibly cites paper 33 (score: 0.67)\n",
      "✓ Paper 91 cites paper 57 (score: 1.00)\n",
      "✓ Paper 91 cites paper 51 (score: 1.00)\n",
      "✓ Paper 91 cites paper 57 (score: 1.00)\n",
      "? Uncertain match: Paper 91 possibly cites paper 51 (score: 0.52)\n",
      "✓ Paper 91 cites paper 51 (score: 1.00)\n",
      "✓ Paper 92 cites paper 44 (score: 1.00)\n",
      "✓ Paper 92 cites paper 5 (score: 1.00)\n",
      "? Uncertain match: Paper 92 possibly cites paper 25 (score: 0.50)\n",
      "✓ Paper 92 cites paper 53 (score: 1.00)\n",
      "? Uncertain match: Paper 92 possibly cites paper 43 (score: 0.50)\n",
      "✓ Paper 92 cites paper 30 (score: 1.00)\n",
      "✓ Paper 92 cites paper 17 (score: 1.00)\n",
      "✓ Paper 92 cites paper 11 (score: 1.00)\n",
      "✓ Paper 92 cites paper 3 (score: 1.00)\n",
      "? Uncertain match: Paper 93 possibly cites paper 22 (score: 0.56)\n",
      "✓ Paper 93 cites paper 55 (score: 0.75)\n",
      "✓ Paper 93 cites paper 55 (score: 0.75)\n",
      "✓ Paper 93 cites paper 104 (score: 0.75)\n",
      "? Uncertain match: Paper 93 possibly cites paper 22 (score: 0.52)\n",
      "✓ Paper 94 cites paper 79 (score: 1.00)\n",
      "? Uncertain match: Paper 94 possibly cites paper 39 (score: 0.60)\n",
      "✓ Paper 94 cites paper 30 (score: 1.00)\n",
      "✓ Paper 94 cites paper 45 (score: 1.00)\n",
      "✓ Paper 94 cites paper 17 (score: 1.00)\n",
      "✓ Paper 94 cites paper 69 (score: 1.00)\n",
      "✓ Paper 94 cites paper 12 (score: 1.00)\n",
      "✓ Paper 94 cites paper 70 (score: 1.00)\n",
      "✓ Paper 94 cites paper 23 (score: 1.00)\n",
      "? Uncertain match: Paper 95 possibly cites paper 33 (score: 0.53)\n",
      "✓ Paper 95 cites paper 32 (score: 0.88)\n",
      "? Uncertain match: Paper 96 possibly cites paper 30 (score: 0.56)\n",
      "? Uncertain match: Paper 96 possibly cites paper 57 (score: 0.53)\n",
      "✓ Paper 97 cites paper 44 (score: 1.00)\n",
      "✓ Paper 97 cites paper 88 (score: 1.00)\n",
      "✓ Paper 97 cites paper 88 (score: 1.00)\n",
      "✓ Paper 97 cites paper 88 (score: 1.00)\n",
      "✓ Paper 97 cites paper 75 (score: 1.00)\n",
      "✓ Paper 97 cites paper 75 (score: 1.00)\n",
      "✓ Paper 97 cites paper 88 (score: 1.00)\n",
      "✓ Paper 97 cites paper 75 (score: 1.00)\n",
      "✓ Paper 97 cites paper 42 (score: 1.00)\n",
      "✓ Paper 97 cites paper 52 (score: 0.88)\n",
      "? Uncertain match: Paper 97 possibly cites paper 38 (score: 0.67)\n",
      "✓ Paper 97 cites paper 63 (score: 0.88)\n",
      "? Uncertain match: Paper 97 possibly cites paper 80 (score: 0.57)\n",
      "? Uncertain match: Paper 97 possibly cites paper 39 (score: 0.60)\n",
      "? Uncertain match: Paper 97 possibly cites paper 66 (score: 0.51)\n",
      "? Uncertain match: Paper 97 possibly cites paper 90 (score: 0.67)\n",
      "✓ Paper 97 cites paper 32 (score: 0.88)\n",
      "✓ Paper 97 cites paper 32 (score: 0.88)\n",
      "? Uncertain match: Paper 97 possibly cites paper 56 (score: 0.56)\n",
      "✓ Paper 97 cites paper 82 (score: 0.88)\n",
      "? Uncertain match: Paper 97 possibly cites paper 52 (score: 0.67)\n",
      "? Uncertain match: Paper 97 possibly cites paper 73 (score: 0.55)\n",
      "? Uncertain match: Paper 97 possibly cites paper 56 (score: 0.52)\n",
      "? Uncertain match: Paper 97 possibly cites paper 72 (score: 0.67)\n",
      "? Uncertain match: Paper 97 possibly cites paper 54 (score: 0.67)\n",
      "? Uncertain match: Paper 98 possibly cites paper 19 (score: 0.55)\n",
      "✓ Paper 98 cites paper 54 (score: 1.00)\n",
      "✓ Paper 98 cites paper 88 (score: 1.00)\n",
      "✓ Paper 98 cites paper 88 (score: 1.00)\n",
      "✓ Paper 98 cites paper 88 (score: 1.00)\n",
      "✓ Paper 98 cites paper 80 (score: 1.00)\n",
      "? Uncertain match: Paper 98 possibly cites paper 18 (score: 0.51)\n",
      "✓ Paper 98 cites paper 81 (score: 1.00)\n",
      "✓ Paper 98 cites paper 18 (score: 1.00)\n",
      "✓ Paper 98 cites paper 84 (score: 1.00)\n",
      "✓ Paper 98 cites paper 52 (score: 1.00)\n",
      "? Uncertain match: Paper 99 possibly cites paper 57 (score: 0.53)\n",
      "? Uncertain match: Paper 99 possibly cites paper 40 (score: 0.67)\n",
      "✓ Paper 99 cites paper 43 (score: 0.88)\n",
      "? Uncertain match: Paper 99 possibly cites paper 39 (score: 0.54)\n",
      "✓ Paper 100 cites paper 42 (score: 1.00)\n",
      "✓ Paper 100 cites paper 28 (score: 1.00)\n",
      "✓ Paper 100 cites paper 24 (score: 1.00)\n",
      "✓ Paper 100 cites paper 86 (score: 1.00)\n",
      "? Uncertain match: Paper 100 possibly cites paper 91 (score: 0.62)\n",
      "? Uncertain match: Paper 100 possibly cites paper 80 (score: 0.67)\n",
      "? Uncertain match: Paper 100 possibly cites paper 18 (score: 0.51)\n",
      "✓ Paper 100 cites paper 81 (score: 1.00)\n",
      "? Uncertain match: Paper 100 possibly cites paper 56 (score: 0.56)\n",
      "✓ Paper 100 cites paper 82 (score: 1.00)\n",
      "? Uncertain match: Paper 100 possibly cites paper 21 (score: 0.50)\n",
      "? Uncertain match: Paper 100 possibly cites paper 95 (score: 0.52)\n",
      "? Uncertain match: Paper 100 possibly cites paper 73 (score: 0.55)\n",
      "✓ Paper 100 cites paper 57 (score: 1.00)\n",
      "? Uncertain match: Paper 100 possibly cites paper 33 (score: 0.55)\n",
      "? Uncertain match: Paper 101 possibly cites paper 56 (score: 0.52)\n",
      "✓ Paper 101 cites paper 88 (score: 1.00)\n",
      "✓ Paper 101 cites paper 88 (score: 1.00)\n",
      "✓ Paper 101 cites paper 59 (score: 1.00)\n",
      "✓ Paper 101 cites paper 59 (score: 1.00)\n",
      "✓ Paper 101 cites paper 52 (score: 0.75)\n",
      "✓ Paper 102 cites paper 52 (score: 0.75)\n",
      "? Uncertain match: Paper 102 possibly cites paper 33 (score: 0.57)\n",
      "✓ Paper 102 cites paper 43 (score: 0.88)\n",
      "✓ Paper 102 cites paper 39 (score: 1.00)\n",
      "✓ Paper 103 cites paper 34 (score: 1.00)\n",
      "? Uncertain match: Paper 103 possibly cites paper 91 (score: 0.51)\n",
      "✓ Paper 103 cites paper 52 (score: 0.75)\n",
      "✓ Paper 103 cites paper 43 (score: 0.88)\n",
      "✓ Paper 103 cites paper 39 (score: 1.00)\n",
      "✓ Paper 103 cites paper 101 (score: 1.00)\n",
      "✓ Paper 103 cites paper 34 (score: 1.00)\n",
      "✓ Paper 103 cites paper 75 (score: 1.00)\n",
      "✓ Paper 103 cites paper 88 (score: 1.00)\n",
      "✓ Paper 103 cites paper 88 (score: 1.00)\n",
      "✓ Paper 103 cites paper 88 (score: 1.00)\n",
      "✓ Paper 103 cites paper 88 (score: 1.00)\n",
      "✓ Paper 103 cites paper 88 (score: 1.00)\n",
      "✓ Paper 103 cites paper 88 (score: 1.00)\n",
      "✓ Paper 104 cites paper 34 (score: 0.88)\n",
      "? Uncertain match: Paper 104 possibly cites paper 39 (score: 0.54)\n",
      "? Uncertain match: Paper 104 possibly cites paper 22 (score: 0.56)\n",
      "✓ Paper 104 cites paper 16 (score: 1.00)\n",
      "✓ Paper 104 cites paper 17 (score: 1.00)\n",
      "✓ Paper 104 cites paper 88 (score: 1.00)\n",
      "? Uncertain match: Paper 105 possibly cites paper 21 (score: 0.53)\n",
      "✓ Paper 106 cites paper 88 (score: 1.00)\n",
      "✓ Paper 106 cites paper 42 (score: 1.00)\n",
      "✓ Paper 106 cites paper 28 (score: 1.00)\n",
      "✓ Paper 106 cites paper 77 (score: 1.00)\n",
      "✓ Paper 106 cites paper 53 (score: 1.00)\n",
      "✓ Paper 106 cites paper 80 (score: 1.00)\n",
      "✓ Paper 106 cites paper 30 (score: 1.00)\n",
      "✓ Paper 106 cites paper 38 (score: 1.00)\n",
      "✓ Paper 106 cites paper 17 (score: 1.00)\n",
      "? Uncertain match: Paper 106 possibly cites paper 11 (score: 0.61)\n",
      "✓ Paper 106 cites paper 32 (score: 1.00)\n",
      "✓ Paper 106 cites paper 3 (score: 1.00)\n",
      "✓ Paper 106 cites paper 83 (score: 1.00)\n",
      "? Uncertain match: Paper 106 possibly cites paper 44 (score: 0.62)\n",
      "✓ Paper 106 cites paper 109 (score: 1.00)\n",
      "✓ Paper 106 cites paper 111 (score: 1.00)\n",
      "✓ Paper 106 cites paper 8 (score: 1.00)\n",
      "✓ Paper 106 cites paper 41 (score: 1.00)\n",
      "✓ Paper 106 cites paper 73 (score: 1.00)\n",
      "✓ Paper 106 cites paper 57 (score: 1.00)\n",
      "✓ Paper 106 cites paper 51 (score: 1.00)\n",
      "? Uncertain match: Paper 106 possibly cites paper 91 (score: 0.54)\n",
      "✓ Paper 107 cites paper 43 (score: 0.88)\n",
      "? Uncertain match: Paper 107 possibly cites paper 39 (score: 0.54)\n",
      "? Uncertain match: Paper 107 possibly cites paper 43 (score: 0.50)\n",
      "✓ Paper 107 cites paper 46 (score: 0.88)\n",
      "✓ Paper 107 cites paper 48 (score: 0.75)\n",
      "? Uncertain match: Paper 108 possibly cites paper 52 (score: 0.67)\n",
      "? Uncertain match: Paper 108 possibly cites paper 100 (score: 0.53)\n",
      "✓ Paper 108 cites paper 91 (score: 0.75)\n",
      "✓ Paper 108 cites paper 91 (score: 1.00)\n",
      "? Uncertain match: Paper 108 possibly cites paper 66 (score: 0.51)\n",
      "✓ Paper 108 cites paper 100 (score: 1.00)\n",
      "? Uncertain match: Paper 108 possibly cites paper 18 (score: 0.51)\n",
      "✓ Paper 108 cites paper 81 (score: 1.00)\n",
      "✓ Paper 108 cites paper 52 (score: 1.00)\n",
      "? Uncertain match: Paper 108 possibly cites paper 21 (score: 0.67)\n",
      "✓ Paper 108 cites paper 100 (score: 1.00)\n",
      "✓ Paper 108 cites paper 100 (score: 1.00)\n",
      "? Uncertain match: Paper 108 possibly cites paper 64 (score: 0.50)\n",
      "✓ Paper 108 cites paper 18 (score: 1.00)\n",
      "✓ Paper 108 cites paper 84 (score: 1.00)\n",
      "✓ Paper 108 cites paper 110 (score: 1.00)\n",
      "✓ Paper 108 cites paper 37 (score: 1.00)\n",
      "? Uncertain match: Paper 108 possibly cites paper 98 (score: 0.53)\n",
      "? Uncertain match: Paper 108 possibly cites paper 54 (score: 0.67)\n",
      "✓ Paper 109 cites paper 75 (score: 1.00)\n",
      "✓ Paper 109 cites paper 42 (score: 1.00)\n",
      "? Uncertain match: Paper 109 possibly cites paper 91 (score: 0.51)\n",
      "✓ Paper 109 cites paper 53 (score: 1.00)\n",
      "✓ Paper 109 cites paper 78 (score: 1.00)\n",
      "✓ Paper 109 cites paper 43 (score: 1.00)\n",
      "✓ Paper 109 cites paper 80 (score: 1.00)\n",
      "✓ Paper 109 cites paper 64 (score: 1.00)\n",
      "✓ Paper 109 cites paper 65 (score: 1.00)\n",
      "? Uncertain match: Paper 109 possibly cites paper 39 (score: 0.54)\n",
      "✓ Paper 109 cites paper 30 (score: 1.00)\n",
      "✓ Paper 109 cites paper 81 (score: 1.00)\n",
      "✓ Paper 109 cites paper 3 (score: 1.00)\n",
      "✓ Paper 109 cites paper 39 (score: 1.00)\n",
      "✓ Paper 109 cites paper 83 (score: 1.00)\n",
      "✓ Paper 109 cites paper 75 (score: 1.00)\n",
      "✓ Paper 109 cites paper 88 (score: 1.00)\n",
      "✓ Paper 109 cites paper 82 (score: 1.00)\n",
      "✓ Paper 109 cites paper 84 (score: 1.00)\n",
      "✓ Paper 109 cites paper 8 (score: 1.00)\n",
      "? Uncertain match: Paper 109 possibly cites paper 53 (score: 0.50)\n",
      "✓ Paper 109 cites paper 57 (score: 1.00)\n",
      "? Uncertain match: Paper 109 possibly cites paper 91 (score: 0.51)\n",
      "✓ Paper 109 cites paper 96 (score: 1.00)\n",
      "? Uncertain match: Paper 110 possibly cites paper 53 (score: 0.67)\n",
      "✓ Paper 110 cites paper 53 (score: 0.88)\n",
      "? Uncertain match: Paper 110 possibly cites paper 80 (score: 0.67)\n",
      "? Uncertain match: Paper 110 possibly cites paper 66 (score: 0.51)\n",
      "? Uncertain match: Paper 110 possibly cites paper 18 (score: 0.51)\n",
      "✓ Paper 110 cites paper 44 (score: 1.00)\n",
      "✓ Paper 110 cites paper 100 (score: 1.00)\n",
      "? Uncertain match: Paper 110 possibly cites paper 56 (score: 0.56)\n",
      "✓ Paper 110 cites paper 18 (score: 1.00)\n",
      "✓ Paper 110 cites paper 84 (score: 1.00)\n",
      "? Uncertain match: Paper 110 possibly cites paper 66 (score: 0.50)\n",
      "? Uncertain match: Paper 110 possibly cites paper 98 (score: 0.53)\n",
      "✓ Paper 111 cites paper 75 (score: 1.00)\n",
      "? Uncertain match: Paper 111 possibly cites paper 66 (score: 0.51)\n",
      "? Uncertain match: Paper 111 possibly cites paper 60 (score: 0.54)\n",
      "✓ Paper 111 cites paper 60 (score: 1.00)\n",
      "✓ Paper 111 cites paper 42 (score: 1.00)\n",
      "✓ Paper 112 cites paper 88 (score: 1.00)\n",
      "✓ Paper 112 cites paper 42 (score: 1.00)\n",
      "✓ Paper 112 cites paper 28 (score: 1.00)\n",
      "✓ Paper 112 cites paper 19 (score: 1.00)\n",
      "? Uncertain match: Paper 112 possibly cites paper 91 (score: 0.51)\n",
      "✓ Paper 112 cites paper 53 (score: 1.00)\n",
      "✓ Paper 112 cites paper 59 (score: 1.00)\n",
      "✓ Paper 112 cites paper 102 (score: 1.00)\n",
      "✓ Paper 112 cites paper 80 (score: 1.00)\n",
      "✓ Paper 112 cites paper 64 (score: 1.00)\n",
      "✓ Paper 112 cites paper 30 (score: 1.00)\n",
      "✓ Paper 112 cites paper 81 (score: 1.00)\n",
      "✓ Paper 112 cites paper 17 (score: 1.00)\n",
      "? Uncertain match: Paper 112 possibly cites paper 11 (score: 0.61)\n",
      "✓ Paper 112 cites paper 16 (score: 1.00)\n",
      "✓ Paper 112 cites paper 32 (score: 1.00)\n",
      "✓ Paper 112 cites paper 3 (score: 1.00)\n",
      "✓ Paper 112 cites paper 83 (score: 1.00)\n",
      "✓ Paper 112 cites paper 71 (score: 1.00)\n",
      "? Uncertain match: Paper 112 possibly cites paper 26 (score: 0.50)\n",
      "✓ Paper 112 cites paper 72 (score: 1.00)\n",
      "✓ Paper 112 cites paper 111 (score: 1.00)\n",
      "✓ Paper 112 cites paper 8 (score: 1.00)\n",
      "✓ Paper 112 cites paper 41 (score: 1.00)\n",
      "✓ Paper 112 cites paper 73 (score: 1.00)\n",
      "✓ Paper 112 cites paper 57 (score: 1.00)\n",
      "✓ Paper 112 cites paper 117 (score: 1.00)\n",
      "? Uncertain match: Paper 112 possibly cites paper 91 (score: 0.54)\n",
      "✓ Paper 113 cites paper 53 (score: 0.88)\n",
      "? Uncertain match: Paper 113 possibly cites paper 80 (score: 0.67)\n",
      "? Uncertain match: Paper 113 possibly cites paper 39 (score: 0.60)\n",
      "✓ Paper 113 cites paper 32 (score: 0.88)\n",
      "✓ Paper 113 cites paper 3 (score: 0.88)\n",
      "? Uncertain match: Paper 113 possibly cites paper 44 (score: 0.50)\n",
      "? Uncertain match: Paper 113 possibly cites paper 86 (score: 0.56)\n",
      "? Uncertain match: Paper 113 possibly cites paper 57 (score: 0.53)\n",
      "✓ Paper 114 cites paper 88 (score: 1.00)\n",
      "✓ Paper 114 cites paper 59 (score: 1.00)\n",
      "✓ Paper 114 cites paper 75 (score: 1.00)\n",
      "✓ Paper 114 cites paper 88 (score: 1.00)\n",
      "✓ Paper 114 cites paper 88 (score: 1.00)\n",
      "✓ Paper 114 cites paper 88 (score: 1.00)\n",
      "✓ Paper 114 cites paper 88 (score: 1.00)\n",
      "? Uncertain match: Paper 114 possibly cites paper 91 (score: 0.51)\n",
      "? Uncertain match: Paper 114 possibly cites paper 91 (score: 0.52)\n",
      "✓ Paper 114 cites paper 86 (score: 1.00)\n",
      "? Uncertain match: Paper 114 possibly cites paper 60 (score: 0.54)\n",
      "? Uncertain match: Paper 115 possibly cites paper 56 (score: 0.52)\n",
      "? Uncertain match: Paper 115 possibly cites paper 40 (score: 0.67)\n",
      "? Uncertain match: Paper 115 possibly cites paper 39 (score: 0.60)\n",
      "? Uncertain match: Paper 115 possibly cites paper 39 (score: 0.60)\n",
      "? Uncertain match: Paper 115 possibly cites paper 57 (score: 0.53)\n",
      "✓ Paper 115 cites paper 53 (score: 0.88)\n",
      "✓ Paper 115 cites paper 3 (score: 0.88)\n",
      "? Uncertain match: Paper 115 possibly cites paper 27 (score: 0.50)\n",
      "✓ Paper 117 cites paper 42 (score: 1.00)\n",
      "? Uncertain match: Paper 117 possibly cites paper 53 (score: 0.67)\n",
      "✓ Paper 117 cites paper 53 (score: 1.00)\n",
      "✓ Paper 117 cites paper 91 (score: 1.00)\n",
      "✓ Paper 117 cites paper 59 (score: 1.00)\n",
      "✓ Paper 117 cites paper 7 (score: 1.00)\n",
      "✓ Paper 117 cites paper 64 (score: 1.00)\n",
      "? Uncertain match: Paper 117 possibly cites paper 65 (score: 0.56)\n",
      "✓ Paper 117 cites paper 38 (score: 1.00)\n",
      "? Uncertain match: Paper 117 possibly cites paper 33 (score: 0.52)\n",
      "✓ Paper 117 cites paper 91 (score: 1.00)\n",
      "✓ Paper 117 cites paper 59 (score: 1.00)\n",
      "✓ Paper 117 cites paper 17 (score: 1.00)\n",
      "? Uncertain match: Paper 117 possibly cites paper 33 (score: 0.53)\n",
      "✓ Paper 117 cites paper 3 (score: 1.00)\n",
      "? Uncertain match: Paper 117 possibly cites paper 71 (score: 0.67)\n",
      "? Uncertain match: Paper 117 possibly cites paper 26 (score: 0.50)\n",
      "? Uncertain match: Paper 117 possibly cites paper 93 (score: 0.50)\n",
      "✓ Paper 117 cites paper 8 (score: 1.00)\n",
      "✓ Paper 117 cites paper 85 (score: 1.00)\n",
      "✓ Paper 117 cites paper 57 (score: 1.00)\n",
      "✓ Paper 117 cites paper 51 (score: 1.00)\n",
      "? Uncertain match: Paper 117 possibly cites paper 33 (score: 0.55)\n",
      "? Uncertain match: Paper 118 possibly cites paper 33 (score: 0.53)\n",
      "✓ Paper 118 cites paper 95 (score: 0.88)\n",
      "? Uncertain match: Paper 118 possibly cites paper 53 (score: 0.50)\n",
      "? Uncertain match: Paper 118 possibly cites paper 33 (score: 0.67)\n",
      "\n",
      "Exporting 248 uncertain matches to Excel...\n",
      "Exported uncertain matches to citation_confirmation.xlsx\n",
      "Please fill in the 'confirmed' column with 'Yes' or 'No' and save the file.\n",
      "Then run the import_citation_confirmations() function to update the citation matrix.\n",
      "\n",
      "================================================================================\n",
      "NEXT STEPS:\n",
      "1. Open the file 'citation_confirmation.xlsx'\n",
      "2. For each row, review the potential citation\n",
      "3. In the 'confirmed' column, enter:\n",
      "   - 'Yes' if it's a valid citation\n",
      "   - 'No' if it's not a valid citation\n",
      "   - Leave blank to skip\n",
      "4. Save the file and run the code below to update the citation matrix:\n",
      "   citation_matrix = import_citation_confirmations(citation_matrix)\n",
      "================================================================================\n"
     ]
    }
   ],
   "source": [
    "# Execute the modified pipeline\n",
    "citation_matrix, citation_details, uncertain_matches = build_citation_network_with_excel(\n",
    "    df_id_bibtex, \n",
    "    pdf_path_dict, \n",
    "    path_constant_part\n",
    ")\n",
    "\n",
    "# Save initial citation matrix (with only high-confidence matches)\n",
    "citation_matrix.to_csv('interconnections_datasets/citation_matrix_initial.csv')\n",
    "\n",
    "# Display instructions for the user\n",
    "print(\"\\n\" + \"=\"*80)\n",
    "print(\"NEXT STEPS:\")\n",
    "print(\"1. Open the file 'citation_confirmation.xlsx'\")\n",
    "print(\"2. For each row, review the potential citation\")\n",
    "print(\"3. In the 'confirmed' column, enter:\")\n",
    "print(\"   - 'Yes' if it's a valid citation\")\n",
    "print(\"   - 'No' if it's not a valid citation\")\n",
    "print(\"   - Leave blank to skip\")\n",
    "print(\"4. Save the file and run the code below to update the citation matrix:\")\n",
    "print(\"   citation_matrix = import_citation_confirmations(citation_matrix)\")\n",
    "print(\"=\"*80)\n"
   ]
  },
  {
   "cell_type": "code",
   "execution_count": 19,
   "metadata": {},
   "outputs": [],
   "source": [
    "# Note: There is an error for the Paper 15 since the PDF seems not well-readable. It cites none of the other studies anyways."
   ]
  },
  {
   "cell_type": "code",
   "execution_count": 31,
   "metadata": {},
   "outputs": [
    {
     "name": "stdout",
     "output_type": "stream",
     "text": [
      "\n",
      "Citation Confirmation Summary:\n",
      "- Confirmed: 65\n",
      "- Rejected: 183\n",
      "- Skipped: 0\n",
      "Updated citation matrix saved to 'interconnections_datasets/citation_matrix.csv'\n",
      "\n",
      "Updated Citation Network Summary:\n",
      "Total citations between corpus papers: 465\n",
      "Papers that cite others in the corpus: 96\n",
      "Papers that are cited by others: 90\n"
     ]
    }
   ],
   "source": [
    "# To run after manual confirmation:\n",
    "citation_matrix = import_citation_confirmations(citation_matrix)\n",
    "\n",
    "# Print summary statistics\n",
    "num_citations = citation_matrix.sum().sum()\n",
    "num_papers_with_citations = (citation_matrix.sum(axis=1) > 0).sum()\n",
    "num_papers_cited = (citation_matrix.sum(axis=0) > 0).sum()\n",
    "\n",
    "print(f\"\\nUpdated Citation Network Summary:\")\n",
    "print(f\"Total citations between corpus papers: {num_citations}\")\n",
    "print(f\"Papers that cite others in the corpus: {num_papers_with_citations}\")\n",
    "print(f\"Papers that are cited by others: {num_papers_cited}\")"
   ]
  },
  {
   "cell_type": "code",
   "execution_count": 32,
   "metadata": {},
   "outputs": [
    {
     "name": "stdout",
     "output_type": "stream",
     "text": [
      "Found 13 forward citations (earlier papers citing later papers):\n",
      "Paper 4 cites paper 5\n",
      "Paper 46 cites paper 68\n",
      "Paper 54 cites paper 68\n",
      "Paper 59 cites paper 60\n",
      "Paper 61 cites paper 63\n",
      "Paper 61 cites paper 64\n",
      "Paper 61 cites paper 68\n",
      "Paper 76 cites paper 77\n",
      "Paper 93 cites paper 104\n",
      "Paper 106 cites paper 109\n",
      "Paper 106 cites paper 111\n",
      "Paper 108 cites paper 110\n",
      "Paper 112 cites paper 117\n"
     ]
    }
   ],
   "source": [
    "# Identify cases where a paper cites another with a higher ID (could be due to same year; want to avoid abvious logical errors)\n",
    "forward_citations = []\n",
    "\n",
    "# Iterate through the citation matrix\n",
    "for citing_id in citation_matrix.index:\n",
    "    for cited_id in citation_matrix.columns:\n",
    "        # Check if this is a forward citation (earlier paper citing later paper)\n",
    "        if citing_id < cited_id and citation_matrix.loc[citing_id, cited_id] == 1:\n",
    "            forward_citations.append((citing_id, cited_id))\n",
    "\n",
    "# Print the results\n",
    "print(f\"Found {len(forward_citations)} forward citations (earlier papers citing later papers):\")\n",
    "if forward_citations:\n",
    "    for citing_id, cited_id in forward_citations:\n",
    "        print(f\"Paper {citing_id} cites paper {cited_id}\")\n",
    "else:\n",
    "    print(\"No forward citations found.\")"
   ]
  },
  {
   "cell_type": "code",
   "execution_count": 33,
   "metadata": {},
   "outputs": [
    {
     "name": "stdout",
     "output_type": "stream",
     "text": [
      "Removing citation: Paper 4 → Paper 5\n",
      "Removing citation: Paper 46 → Paper 68\n",
      "Removing citation: Paper 54 → Paper 68\n",
      "Removing citation: Paper 59 → Paper 60\n",
      "Removing citation: Paper 61 → Paper 64\n",
      "Removing citation: Paper 61 → Paper 68\n",
      "Removing citation: Paper 93 → Paper 104\n",
      "\n",
      "After correction: 6 forward citations remain.\n",
      "Remaining forward citations:\n",
      "Paper 61 still cites paper 63\n",
      "Paper 76 still cites paper 77\n",
      "Paper 106 still cites paper 109\n",
      "Paper 106 still cites paper 111\n",
      "Paper 108 still cites paper 110\n",
      "Paper 112 still cites paper 117\n"
     ]
    }
   ],
   "source": [
    "# List of specific forward citations to remove\n",
    "citations_to_correct = [\n",
    "    # List the 7 specific pairs you want to remove as (citing_id, cited_id)\n",
    "    # For example:\n",
    "    (4, 5),\n",
    "    (46, 68),\n",
    "    (54, 68),\n",
    "    (59, 60),\n",
    "    (61, 64),\n",
    "    (61, 68),\n",
    "    (93, 104)\n",
    "    # Add all 7 pairs here\n",
    "]\n",
    "\n",
    "# Make a copy of the original citation matrix to avoid modifying the original\n",
    "corrected_matrix = citation_matrix.copy()\n",
    "\n",
    "# Modify the specified citations\n",
    "for citing_id, cited_id in citations_to_correct:\n",
    "    print(f\"Removing citation: Paper {citing_id} → Paper {cited_id}\")\n",
    "    corrected_matrix.loc[citing_id, cited_id] = 0\n",
    "\n",
    "# Save the corrected citation matrix\n",
    "corrected_matrix.to_csv('interconnections_datasets/citation_matrix_corrected.csv')\n",
    "\n",
    "# Verify the corrections\n",
    "forward_citations_after = []\n",
    "for citing_id in corrected_matrix.index:\n",
    "    for cited_id in corrected_matrix.columns:\n",
    "        if citing_id < cited_id and corrected_matrix.loc[citing_id, cited_id] == 1:\n",
    "            forward_citations_after.append((citing_id, cited_id))\n",
    "\n",
    "print(f\"\\nAfter correction: {len(forward_citations_after)} forward citations remain.\")\n",
    "if forward_citations_after:\n",
    "    print(\"Remaining forward citations:\")\n",
    "    for citing_id, cited_id in forward_citations_after:\n",
    "        print(f\"Paper {citing_id} still cites paper {cited_id}\")\n",
    "else:\n",
    "    print(\"All specified forward citations have been removed.\")"
   ]
  }
 ],
 "metadata": {
  "kernelspec": {
   "display_name": "Python 3",
   "language": "python",
   "name": "python3"
  },
  "language_info": {
   "codemirror_mode": {
    "name": "ipython",
    "version": 3
   },
   "file_extension": ".py",
   "mimetype": "text/x-python",
   "name": "python",
   "nbconvert_exporter": "python",
   "pygments_lexer": "ipython3",
   "version": "3.12.4"
  }
 },
 "nbformat": 4,
 "nbformat_minor": 2
}
